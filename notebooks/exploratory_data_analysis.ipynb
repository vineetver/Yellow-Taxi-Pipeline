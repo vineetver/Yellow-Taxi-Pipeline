{
 "cells": [
  {
   "cell_type": "code",
   "execution_count": 1,
   "outputs": [],
   "source": [
    "from src.data.create_dataset import *\n",
    "from src.features.data_cleaning import *\n",
    "import numpy as np\n",
    "import pandas as pd\n",
    "import itertools\n",
    "import calendar"
   ],
   "metadata": {
    "collapsed": false,
    "pycharm": {
     "name": "#%%\n"
    }
   }
  },
  {
   "cell_type": "code",
   "execution_count": 2,
   "outputs": [],
   "source": [
    "year = '2020'\n",
    "month = '08'"
   ],
   "metadata": {
    "collapsed": false,
    "pycharm": {
     "name": "#%%\n"
    }
   }
  },
  {
   "cell_type": "code",
   "execution_count": 3,
   "outputs": [],
   "source": [
    "df = read_data(year, month)"
   ],
   "metadata": {
    "collapsed": false,
    "pycharm": {
     "name": "#%%\n"
    }
   }
  },
  {
   "cell_type": "code",
   "execution_count": 4,
   "outputs": [
    {
     "data": {
      "text/plain": "   VendorID tpep_pickup_datetime tpep_dropoff_datetime  passenger_count  \\\n0       1.0  2020-08-01 00:02:53   2020-08-01 00:28:54              1.0   \n1       2.0  2020-08-01 00:08:11   2020-08-01 00:16:28              1.0   \n2       2.0  2020-08-01 00:22:14   2020-08-01 00:22:20              1.0   \n3       2.0  2020-08-01 00:31:35   2020-08-01 00:36:54              1.0   \n4       2.0  2020-08-01 00:39:18   2020-08-01 00:42:09              1.0   \n\n   trip_distance  RatecodeID store_and_fwd_flag  PULocationID  DOLocationID  \\\n0          13.20         1.0                  N           237            16   \n1           2.83         1.0                  N           146           137   \n2           0.00         1.0                  N           264           264   \n3           2.34         1.0                  N            79           141   \n4           1.32         1.0                  N           141           263   \n\n   payment_type  fare_amount  extra  mta_tax  tip_amount  tolls_amount  \\\n0           2.0         36.5    3.0      0.5        0.00           0.0   \n1           1.0         10.5    0.5      0.5        1.50           0.0   \n2           2.0          2.5    0.5      0.5        0.00           0.0   \n3           1.0          8.0    0.5      0.5        2.36           0.0   \n4           1.0          5.5    0.5      0.5        1.86           0.0   \n\n   improvement_surcharge  total_amount  congestion_surcharge  \n0                    0.3         40.30                   2.5  \n1                    0.3         15.80                   2.5  \n2                    0.3          3.80                   0.0  \n3                    0.3         14.16                   2.5  \n4                    0.3         11.16                   2.5  ",
      "text/html": "<div>\n<style scoped>\n    .dataframe tbody tr th:only-of-type {\n        vertical-align: middle;\n    }\n\n    .dataframe tbody tr th {\n        vertical-align: top;\n    }\n\n    .dataframe thead th {\n        text-align: right;\n    }\n</style>\n<table border=\"1\" class=\"dataframe\">\n  <thead>\n    <tr style=\"text-align: right;\">\n      <th></th>\n      <th>VendorID</th>\n      <th>tpep_pickup_datetime</th>\n      <th>tpep_dropoff_datetime</th>\n      <th>passenger_count</th>\n      <th>trip_distance</th>\n      <th>RatecodeID</th>\n      <th>store_and_fwd_flag</th>\n      <th>PULocationID</th>\n      <th>DOLocationID</th>\n      <th>payment_type</th>\n      <th>fare_amount</th>\n      <th>extra</th>\n      <th>mta_tax</th>\n      <th>tip_amount</th>\n      <th>tolls_amount</th>\n      <th>improvement_surcharge</th>\n      <th>total_amount</th>\n      <th>congestion_surcharge</th>\n    </tr>\n  </thead>\n  <tbody>\n    <tr>\n      <th>0</th>\n      <td>1.0</td>\n      <td>2020-08-01 00:02:53</td>\n      <td>2020-08-01 00:28:54</td>\n      <td>1.0</td>\n      <td>13.20</td>\n      <td>1.0</td>\n      <td>N</td>\n      <td>237</td>\n      <td>16</td>\n      <td>2.0</td>\n      <td>36.5</td>\n      <td>3.0</td>\n      <td>0.5</td>\n      <td>0.00</td>\n      <td>0.0</td>\n      <td>0.3</td>\n      <td>40.30</td>\n      <td>2.5</td>\n    </tr>\n    <tr>\n      <th>1</th>\n      <td>2.0</td>\n      <td>2020-08-01 00:08:11</td>\n      <td>2020-08-01 00:16:28</td>\n      <td>1.0</td>\n      <td>2.83</td>\n      <td>1.0</td>\n      <td>N</td>\n      <td>146</td>\n      <td>137</td>\n      <td>1.0</td>\n      <td>10.5</td>\n      <td>0.5</td>\n      <td>0.5</td>\n      <td>1.50</td>\n      <td>0.0</td>\n      <td>0.3</td>\n      <td>15.80</td>\n      <td>2.5</td>\n    </tr>\n    <tr>\n      <th>2</th>\n      <td>2.0</td>\n      <td>2020-08-01 00:22:14</td>\n      <td>2020-08-01 00:22:20</td>\n      <td>1.0</td>\n      <td>0.00</td>\n      <td>1.0</td>\n      <td>N</td>\n      <td>264</td>\n      <td>264</td>\n      <td>2.0</td>\n      <td>2.5</td>\n      <td>0.5</td>\n      <td>0.5</td>\n      <td>0.00</td>\n      <td>0.0</td>\n      <td>0.3</td>\n      <td>3.80</td>\n      <td>0.0</td>\n    </tr>\n    <tr>\n      <th>3</th>\n      <td>2.0</td>\n      <td>2020-08-01 00:31:35</td>\n      <td>2020-08-01 00:36:54</td>\n      <td>1.0</td>\n      <td>2.34</td>\n      <td>1.0</td>\n      <td>N</td>\n      <td>79</td>\n      <td>141</td>\n      <td>1.0</td>\n      <td>8.0</td>\n      <td>0.5</td>\n      <td>0.5</td>\n      <td>2.36</td>\n      <td>0.0</td>\n      <td>0.3</td>\n      <td>14.16</td>\n      <td>2.5</td>\n    </tr>\n    <tr>\n      <th>4</th>\n      <td>2.0</td>\n      <td>2020-08-01 00:39:18</td>\n      <td>2020-08-01 00:42:09</td>\n      <td>1.0</td>\n      <td>1.32</td>\n      <td>1.0</td>\n      <td>N</td>\n      <td>141</td>\n      <td>263</td>\n      <td>1.0</td>\n      <td>5.5</td>\n      <td>0.5</td>\n      <td>0.5</td>\n      <td>1.86</td>\n      <td>0.0</td>\n      <td>0.3</td>\n      <td>11.16</td>\n      <td>2.5</td>\n    </tr>\n  </tbody>\n</table>\n</div>"
     },
     "execution_count": 4,
     "metadata": {},
     "output_type": "execute_result"
    }
   ],
   "source": [
    "df.head()"
   ],
   "metadata": {
    "collapsed": false,
    "pycharm": {
     "name": "#%%\n"
    }
   }
  },
  {
   "cell_type": "code",
   "execution_count": 5,
   "outputs": [
    {
     "data": {
      "text/plain": "         VendorID tpep_pickup_datetime tpep_dropoff_datetime  passenger_count  \\\n74405         2.0  2020-08-04 03:12:27   2020-08-05 03:11:03              4.0   \n74667         2.0  2020-08-04 05:08:10   2020-08-05 05:00:25              1.0   \n74906         2.0  2020-08-04 06:03:35   2020-08-05 00:00:00              1.0   \n78660         2.0  2020-08-04 09:00:40   2020-08-05 08:14:24              1.0   \n78944         2.0  2020-08-04 09:35:52   2020-08-05 08:53:45              1.0   \n...           ...                  ...                   ...              ...   \n1007279       NaN  2020-08-17 10:44:01   2020-08-17 11:08:05              NaN   \n1007280       NaN  2020-08-17 10:32:00   2020-08-17 11:14:00              NaN   \n1007281       NaN  2020-08-17 10:30:00   2020-08-17 10:47:00              NaN   \n1007282       NaN  2020-08-17 10:21:32   2020-08-17 10:54:42              NaN   \n1007283       NaN  2020-08-17 10:38:00   2020-08-17 11:02:00              NaN   \n\n         trip_distance  RatecodeID store_and_fwd_flag  PULocationID  \\\n74405             3.22         1.0                  N           179   \n74667            18.20         1.0                  N            42   \n74906            20.59         1.0                  N           132   \n78660             3.02         1.0                  N           262   \n78944             2.33         1.0                  N            68   \n...                ...         ...                ...           ...   \n1007279           9.97         NaN                NaN            87   \n1007280          16.93         NaN                NaN           209   \n1007281           2.75         NaN                NaN           215   \n1007282          10.63         NaN                NaN           212   \n1007283           8.37         NaN                NaN           213   \n\n         DOLocationID  payment_type  fare_amount  extra  mta_tax  tip_amount  \\\n74405             179           2.0        14.00    0.5      0.5        0.00   \n74667              77           2.0        50.50    0.5      0.5        0.00   \n74906              26           1.0        56.50    0.0      0.5        0.00   \n78660             170           1.0        12.50    0.0      0.5        3.16   \n78944             142           1.0         9.00    0.0      0.5        1.23   \n...               ...           ...          ...    ...      ...         ...   \n1007279            42           NaN        37.98    0.0      0.5        2.75   \n1007280            10           NaN        58.00    0.0      0.5        2.75   \n1007281           121           NaN        21.07    0.0      0.5        2.75   \n1007282           107           NaN        31.03    0.0      0.5        2.75   \n1007283           140           NaN        31.27    0.0      0.5        2.75   \n\n         tolls_amount  improvement_surcharge  total_amount  \\\n74405            0.00                    0.3         15.30   \n74667            6.12                    0.3         57.92   \n74906            0.00                    0.3         57.30   \n78660            0.00                    0.3         18.96   \n78944            0.00                    0.3         13.53   \n...               ...                    ...           ...   \n1007279          0.00                    0.3         41.53   \n1007280          0.00                    0.3         61.55   \n1007281          0.00                    0.3         24.62   \n1007282          6.12                    0.3         40.70   \n1007283          0.00                    0.3         34.82   \n\n         congestion_surcharge  \n74405                     0.0  \n74667                     0.0  \n74906                     0.0  \n78660                     2.5  \n78944                     2.5  \n...                       ...  \n1007279                   0.0  \n1007280                   0.0  \n1007281                   0.0  \n1007282                   0.0  \n1007283                   0.0  \n\n[865454 rows x 18 columns]",
      "text/html": "<div>\n<style scoped>\n    .dataframe tbody tr th:only-of-type {\n        vertical-align: middle;\n    }\n\n    .dataframe tbody tr th {\n        vertical-align: top;\n    }\n\n    .dataframe thead th {\n        text-align: right;\n    }\n</style>\n<table border=\"1\" class=\"dataframe\">\n  <thead>\n    <tr style=\"text-align: right;\">\n      <th></th>\n      <th>VendorID</th>\n      <th>tpep_pickup_datetime</th>\n      <th>tpep_dropoff_datetime</th>\n      <th>passenger_count</th>\n      <th>trip_distance</th>\n      <th>RatecodeID</th>\n      <th>store_and_fwd_flag</th>\n      <th>PULocationID</th>\n      <th>DOLocationID</th>\n      <th>payment_type</th>\n      <th>fare_amount</th>\n      <th>extra</th>\n      <th>mta_tax</th>\n      <th>tip_amount</th>\n      <th>tolls_amount</th>\n      <th>improvement_surcharge</th>\n      <th>total_amount</th>\n      <th>congestion_surcharge</th>\n    </tr>\n  </thead>\n  <tbody>\n    <tr>\n      <th>74405</th>\n      <td>2.0</td>\n      <td>2020-08-04 03:12:27</td>\n      <td>2020-08-05 03:11:03</td>\n      <td>4.0</td>\n      <td>3.22</td>\n      <td>1.0</td>\n      <td>N</td>\n      <td>179</td>\n      <td>179</td>\n      <td>2.0</td>\n      <td>14.00</td>\n      <td>0.5</td>\n      <td>0.5</td>\n      <td>0.00</td>\n      <td>0.00</td>\n      <td>0.3</td>\n      <td>15.30</td>\n      <td>0.0</td>\n    </tr>\n    <tr>\n      <th>74667</th>\n      <td>2.0</td>\n      <td>2020-08-04 05:08:10</td>\n      <td>2020-08-05 05:00:25</td>\n      <td>1.0</td>\n      <td>18.20</td>\n      <td>1.0</td>\n      <td>N</td>\n      <td>42</td>\n      <td>77</td>\n      <td>2.0</td>\n      <td>50.50</td>\n      <td>0.5</td>\n      <td>0.5</td>\n      <td>0.00</td>\n      <td>6.12</td>\n      <td>0.3</td>\n      <td>57.92</td>\n      <td>0.0</td>\n    </tr>\n    <tr>\n      <th>74906</th>\n      <td>2.0</td>\n      <td>2020-08-04 06:03:35</td>\n      <td>2020-08-05 00:00:00</td>\n      <td>1.0</td>\n      <td>20.59</td>\n      <td>1.0</td>\n      <td>N</td>\n      <td>132</td>\n      <td>26</td>\n      <td>1.0</td>\n      <td>56.50</td>\n      <td>0.0</td>\n      <td>0.5</td>\n      <td>0.00</td>\n      <td>0.00</td>\n      <td>0.3</td>\n      <td>57.30</td>\n      <td>0.0</td>\n    </tr>\n    <tr>\n      <th>78660</th>\n      <td>2.0</td>\n      <td>2020-08-04 09:00:40</td>\n      <td>2020-08-05 08:14:24</td>\n      <td>1.0</td>\n      <td>3.02</td>\n      <td>1.0</td>\n      <td>N</td>\n      <td>262</td>\n      <td>170</td>\n      <td>1.0</td>\n      <td>12.50</td>\n      <td>0.0</td>\n      <td>0.5</td>\n      <td>3.16</td>\n      <td>0.00</td>\n      <td>0.3</td>\n      <td>18.96</td>\n      <td>2.5</td>\n    </tr>\n    <tr>\n      <th>78944</th>\n      <td>2.0</td>\n      <td>2020-08-04 09:35:52</td>\n      <td>2020-08-05 08:53:45</td>\n      <td>1.0</td>\n      <td>2.33</td>\n      <td>1.0</td>\n      <td>N</td>\n      <td>68</td>\n      <td>142</td>\n      <td>1.0</td>\n      <td>9.00</td>\n      <td>0.0</td>\n      <td>0.5</td>\n      <td>1.23</td>\n      <td>0.00</td>\n      <td>0.3</td>\n      <td>13.53</td>\n      <td>2.5</td>\n    </tr>\n    <tr>\n      <th>...</th>\n      <td>...</td>\n      <td>...</td>\n      <td>...</td>\n      <td>...</td>\n      <td>...</td>\n      <td>...</td>\n      <td>...</td>\n      <td>...</td>\n      <td>...</td>\n      <td>...</td>\n      <td>...</td>\n      <td>...</td>\n      <td>...</td>\n      <td>...</td>\n      <td>...</td>\n      <td>...</td>\n      <td>...</td>\n      <td>...</td>\n    </tr>\n    <tr>\n      <th>1007279</th>\n      <td>NaN</td>\n      <td>2020-08-17 10:44:01</td>\n      <td>2020-08-17 11:08:05</td>\n      <td>NaN</td>\n      <td>9.97</td>\n      <td>NaN</td>\n      <td>NaN</td>\n      <td>87</td>\n      <td>42</td>\n      <td>NaN</td>\n      <td>37.98</td>\n      <td>0.0</td>\n      <td>0.5</td>\n      <td>2.75</td>\n      <td>0.00</td>\n      <td>0.3</td>\n      <td>41.53</td>\n      <td>0.0</td>\n    </tr>\n    <tr>\n      <th>1007280</th>\n      <td>NaN</td>\n      <td>2020-08-17 10:32:00</td>\n      <td>2020-08-17 11:14:00</td>\n      <td>NaN</td>\n      <td>16.93</td>\n      <td>NaN</td>\n      <td>NaN</td>\n      <td>209</td>\n      <td>10</td>\n      <td>NaN</td>\n      <td>58.00</td>\n      <td>0.0</td>\n      <td>0.5</td>\n      <td>2.75</td>\n      <td>0.00</td>\n      <td>0.3</td>\n      <td>61.55</td>\n      <td>0.0</td>\n    </tr>\n    <tr>\n      <th>1007281</th>\n      <td>NaN</td>\n      <td>2020-08-17 10:30:00</td>\n      <td>2020-08-17 10:47:00</td>\n      <td>NaN</td>\n      <td>2.75</td>\n      <td>NaN</td>\n      <td>NaN</td>\n      <td>215</td>\n      <td>121</td>\n      <td>NaN</td>\n      <td>21.07</td>\n      <td>0.0</td>\n      <td>0.5</td>\n      <td>2.75</td>\n      <td>0.00</td>\n      <td>0.3</td>\n      <td>24.62</td>\n      <td>0.0</td>\n    </tr>\n    <tr>\n      <th>1007282</th>\n      <td>NaN</td>\n      <td>2020-08-17 10:21:32</td>\n      <td>2020-08-17 10:54:42</td>\n      <td>NaN</td>\n      <td>10.63</td>\n      <td>NaN</td>\n      <td>NaN</td>\n      <td>212</td>\n      <td>107</td>\n      <td>NaN</td>\n      <td>31.03</td>\n      <td>0.0</td>\n      <td>0.5</td>\n      <td>2.75</td>\n      <td>6.12</td>\n      <td>0.3</td>\n      <td>40.70</td>\n      <td>0.0</td>\n    </tr>\n    <tr>\n      <th>1007283</th>\n      <td>NaN</td>\n      <td>2020-08-17 10:38:00</td>\n      <td>2020-08-17 11:02:00</td>\n      <td>NaN</td>\n      <td>8.37</td>\n      <td>NaN</td>\n      <td>NaN</td>\n      <td>213</td>\n      <td>140</td>\n      <td>NaN</td>\n      <td>31.27</td>\n      <td>0.0</td>\n      <td>0.5</td>\n      <td>2.75</td>\n      <td>0.00</td>\n      <td>0.3</td>\n      <td>34.82</td>\n      <td>0.0</td>\n    </tr>\n  </tbody>\n</table>\n<p>865454 rows × 18 columns</p>\n</div>"
     },
     "execution_count": 5,
     "metadata": {},
     "output_type": "execute_result"
    }
   ],
   "source": [
    "remove_out_of_range_data(df, year, month)"
   ],
   "metadata": {
    "collapsed": false,
    "pycharm": {
     "name": "#%%\n"
    }
   }
  },
  {
   "cell_type": "code",
   "execution_count": null,
   "outputs": [],
   "source": [],
   "metadata": {
    "collapsed": false,
    "pycharm": {
     "name": "#%%\n"
    }
   }
  }
 ],
 "metadata": {
  "kernelspec": {
   "display_name": "Python 3",
   "language": "python",
   "name": "python3"
  },
  "language_info": {
   "codemirror_mode": {
    "name": "ipython",
    "version": 2
   },
   "file_extension": ".py",
   "mimetype": "text/x-python",
   "name": "python",
   "nbconvert_exporter": "python",
   "pygments_lexer": "ipython2",
   "version": "2.7.6"
  }
 },
 "nbformat": 4,
 "nbformat_minor": 0
}