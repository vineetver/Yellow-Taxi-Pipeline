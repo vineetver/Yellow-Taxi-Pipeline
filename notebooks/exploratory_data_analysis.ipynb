{
 "cells": [
  {
   "cell_type": "code",
   "execution_count": 1,
   "outputs": [],
   "source": [
    "from src.data.create_dataset import *\n",
    "from src.models import models"
   ],
   "metadata": {
    "collapsed": false,
    "pycharm": {
     "name": "#%%\n"
    }
   }
  },
  {
   "cell_type": "code",
   "execution_count": null,
   "outputs": [],
   "source": [
    "## Preprocess (load data -> clean data -> save preprocessed data to cloud)\n",
    "!python../ main / preprocess.py"
   ],
   "metadata": {
    "collapsed": false,
    "pycharm": {
     "name": "#%%\n"
    }
   }
  },
  {
   "cell_type": "code",
   "execution_count": null,
   "outputs": [],
   "source": [
    "## Generate the features (generate features -> save the new dataframe with features to cloud)\n",
    "!python../ main / feature_engineering.py"
   ],
   "metadata": {
    "collapsed": false,
    "pycharm": {
     "name": "#%%\n"
    }
   }
  },
  {
   "cell_type": "code",
   "execution_count": null,
   "outputs": [],
   "source": [
    "## train the model (train the model -> save the model to cloud)\n",
    "!python../ main / train_model.py"
   ],
   "metadata": {
    "collapsed": false,
    "pycharm": {
     "name": "#%%\n"
    }
   }
  },
  {
   "cell_type": "code",
   "execution_count": 2,
   "outputs": [
    {
     "name": "stdout",
     "output_type": "stream",
     "text": [
      "Current version: 20220507-183627\n",
      "Current version: 20220507-183643\n"
     ]
    }
   ],
   "source": [
    "## e.g. load final dataframes from cloud (month 1 is for training, month 2 is for testing)\n",
    "train_df = get_output_data('data/features/2022_01')\n",
    "test_df = get_output_data('data/features/2022_02')"
   ],
   "metadata": {
    "collapsed": false,
    "pycharm": {
     "name": "#%%\n"
    }
   }
  },
  {
   "cell_type": "code",
   "execution_count": 3,
   "outputs": [
    {
     "data": {
      "text/plain": "   trip_duration  trip_speed  trip_tolls  pickup_weekday  pickup_hour  \\\n0        85183.0    0.000184         0.0               1            0   \n1         5477.0    0.000026         0.0               1           22   \n2        83457.0    0.000012         0.0               1            3   \n3        85516.0    0.000052         0.0               1            3   \n4        67491.0    0.000029         0.0               1            5   \n\n   pickup_minute  work_hours  meter_eng  meter_dis  total_tip  total_fare  \\\n0             44       False        138         38      28.61       141.0   \n1             43       False        132        161      12.85        63.0   \n2             20       False         48        264       0.00         5.5   \n3             13       False         48         41       0.00        15.0   \n4             15       False        170        140       0.00         8.0   \n\n   tip_percentage  big_tip tpep_pickup_datetime tpep_dropoff_datetime  \n0       20.290780    False  2022-01-04 00:44:43   2022-01-05 00:24:26  \n1       20.396825    False  2022-01-04 22:43:04   2022-01-05 00:14:21  \n2        0.000000    False  2022-01-04 03:20:48   2022-01-05 02:31:45  \n3        0.000000    False  2022-01-04 03:13:33   2022-01-05 02:58:49  \n4        0.000000    False  2022-01-04 05:15:09   2022-01-05 00:00:00  ",
      "text/html": "<div>\n<style scoped>\n    .dataframe tbody tr th:only-of-type {\n        vertical-align: middle;\n    }\n\n    .dataframe tbody tr th {\n        vertical-align: top;\n    }\n\n    .dataframe thead th {\n        text-align: right;\n    }\n</style>\n<table border=\"1\" class=\"dataframe\">\n  <thead>\n    <tr style=\"text-align: right;\">\n      <th></th>\n      <th>trip_duration</th>\n      <th>trip_speed</th>\n      <th>trip_tolls</th>\n      <th>pickup_weekday</th>\n      <th>pickup_hour</th>\n      <th>pickup_minute</th>\n      <th>work_hours</th>\n      <th>meter_eng</th>\n      <th>meter_dis</th>\n      <th>total_tip</th>\n      <th>total_fare</th>\n      <th>tip_percentage</th>\n      <th>big_tip</th>\n      <th>tpep_pickup_datetime</th>\n      <th>tpep_dropoff_datetime</th>\n    </tr>\n  </thead>\n  <tbody>\n    <tr>\n      <th>0</th>\n      <td>85183.0</td>\n      <td>0.000184</td>\n      <td>0.0</td>\n      <td>1</td>\n      <td>0</td>\n      <td>44</td>\n      <td>False</td>\n      <td>138</td>\n      <td>38</td>\n      <td>28.61</td>\n      <td>141.0</td>\n      <td>20.290780</td>\n      <td>False</td>\n      <td>2022-01-04 00:44:43</td>\n      <td>2022-01-05 00:24:26</td>\n    </tr>\n    <tr>\n      <th>1</th>\n      <td>5477.0</td>\n      <td>0.000026</td>\n      <td>0.0</td>\n      <td>1</td>\n      <td>22</td>\n      <td>43</td>\n      <td>False</td>\n      <td>132</td>\n      <td>161</td>\n      <td>12.85</td>\n      <td>63.0</td>\n      <td>20.396825</td>\n      <td>False</td>\n      <td>2022-01-04 22:43:04</td>\n      <td>2022-01-05 00:14:21</td>\n    </tr>\n    <tr>\n      <th>2</th>\n      <td>83457.0</td>\n      <td>0.000012</td>\n      <td>0.0</td>\n      <td>1</td>\n      <td>3</td>\n      <td>20</td>\n      <td>False</td>\n      <td>48</td>\n      <td>264</td>\n      <td>0.00</td>\n      <td>5.5</td>\n      <td>0.000000</td>\n      <td>False</td>\n      <td>2022-01-04 03:20:48</td>\n      <td>2022-01-05 02:31:45</td>\n    </tr>\n    <tr>\n      <th>3</th>\n      <td>85516.0</td>\n      <td>0.000052</td>\n      <td>0.0</td>\n      <td>1</td>\n      <td>3</td>\n      <td>13</td>\n      <td>False</td>\n      <td>48</td>\n      <td>41</td>\n      <td>0.00</td>\n      <td>15.0</td>\n      <td>0.000000</td>\n      <td>False</td>\n      <td>2022-01-04 03:13:33</td>\n      <td>2022-01-05 02:58:49</td>\n    </tr>\n    <tr>\n      <th>4</th>\n      <td>67491.0</td>\n      <td>0.000029</td>\n      <td>0.0</td>\n      <td>1</td>\n      <td>5</td>\n      <td>15</td>\n      <td>False</td>\n      <td>170</td>\n      <td>140</td>\n      <td>0.00</td>\n      <td>8.0</td>\n      <td>0.000000</td>\n      <td>False</td>\n      <td>2022-01-04 05:15:09</td>\n      <td>2022-01-05 00:00:00</td>\n    </tr>\n  </tbody>\n</table>\n</div>"
     },
     "execution_count": 3,
     "metadata": {},
     "output_type": "execute_result"
    }
   ],
   "source": [
    "train_df.head(5)"
   ],
   "metadata": {
    "collapsed": false,
    "pycharm": {
     "name": "#%%\n"
    }
   }
  },
  {
   "cell_type": "code",
   "execution_count": 4,
   "outputs": [],
   "source": [
    "## Choose the features and the label\n",
    "label = 'big_tip'\n",
    "features = list(train_df.columns.drop([label, 'tpep_pickup_datetime', 'tpep_dropoff_datetime']))"
   ],
   "metadata": {
    "collapsed": false,
    "pycharm": {
     "name": "#%%\n"
    }
   }
  },
  {
   "cell_type": "code",
   "execution_count": 5,
   "outputs": [],
   "source": [
    "## Initialize the model\n",
    "model = models.GaussianNBModel(features=features, label=label)"
   ],
   "metadata": {
    "collapsed": false,
    "pycharm": {
     "name": "#%%\n"
    }
   }
  },
  {
   "cell_type": "code",
   "execution_count": 6,
   "outputs": [],
   "source": [
    "## Split the data into train and test\n",
    "x_train, y_train = model.preprocess(train_df)\n",
    "x_test, y_test = model.preprocess(test_df)"
   ],
   "metadata": {
    "collapsed": false,
    "pycharm": {
     "name": "#%%\n"
    }
   }
  },
  {
   "cell_type": "code",
   "execution_count": 7,
   "outputs": [],
   "source": [
    "## Fit the model\n",
    "history = model.fit(x_train, y_train)"
   ],
   "metadata": {
    "collapsed": false,
    "pycharm": {
     "name": "#%%\n"
    }
   }
  },
  {
   "cell_type": "code",
   "execution_count": 8,
   "outputs": [
    {
     "data": {
      "text/plain": "<Figure size 432x288 with 2 Axes>",
      "image/png": "[encoded data removed]"
     },
     "metadata": {
      "needs_background": "light"
     },
     "output_type": "display_data"
    }
   ],
   "source": [
    "## Plot the confusion matrix (normalized\n",
    "model.plot_confusion_matrix(x_test, y_test, normalize='true')"
   ],
   "metadata": {
    "collapsed": false,
    "pycharm": {
     "name": "#%%\n"
    }
   }
  },
  {
   "cell_type": "code",
   "execution_count": null,
   "outputs": [],
   "source": [
    "## 10-Fold Cross-validation on the testing data\n",
    "model.cross_validate(x_test, y_test)"
   ],
   "metadata": {
    "collapsed": false,
    "pycharm": {
     "name": "#%%\n"
    }
   }
  }
 ],
 "metadata": {
  "kernelspec": {
   "display_name": "Python 3",
   "language": "python",
   "name": "python3"
  },
  "language_info": {
   "codemirror_mode": {
    "name": "ipython",
    "version": 2
   },
   "file_extension": ".py",
   "mimetype": "text/x-python",
   "name": "python",
   "nbconvert_exporter": "python",
   "pygments_lexer": "ipython2",
   "version": "2.7.6"
  }
 },
 "nbformat": 4,
 "nbformat_minor": 0
}