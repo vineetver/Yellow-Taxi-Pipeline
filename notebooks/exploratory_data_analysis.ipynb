{
 "cells": [
  {
   "cell_type": "code",
   "execution_count": 2,
   "outputs": [],
   "source": [
    "from src.data.create_dataset import *\n",
    "from src.features.data_cleaning import *\n",
    "import pandas as pd"
   ],
   "metadata": {
    "collapsed": false,
    "pycharm": {
     "name": "#%%\n"
    }
   }
  },
  {
   "cell_type": "code",
   "execution_count": 14,
   "outputs": [],
   "source": [
    "df = read_data('2020', '08')"
   ],
   "metadata": {
    "collapsed": false,
    "pycharm": {
     "name": "#%%\n"
    }
   }
  },
  {
   "cell_type": "code",
   "execution_count": 15,
   "outputs": [
    {
     "data": {
      "text/plain": "         VendorID tpep_pickup_datetime tpep_dropoff_datetime  passenger_count  \\\n0             1.0  2020-08-01 00:02:53   2020-08-01 00:28:54              1.0   \n1             2.0  2020-08-01 00:08:11   2020-08-01 00:16:28              1.0   \n2             2.0  2020-08-01 00:22:14   2020-08-01 00:22:20              1.0   \n3             2.0  2020-08-01 00:31:35   2020-08-01 00:36:54              1.0   \n4             2.0  2020-08-01 00:39:18   2020-08-01 00:42:09              1.0   \n...           ...                  ...                   ...              ...   \n1007279       NaN  2020-08-17 10:44:01   2020-08-17 11:08:05              NaN   \n1007280       NaN  2020-08-17 10:32:00   2020-08-17 11:14:00              NaN   \n1007281       NaN  2020-08-17 10:30:00   2020-08-17 10:47:00              NaN   \n1007282       NaN  2020-08-17 10:21:32   2020-08-17 10:54:42              NaN   \n1007283       NaN  2020-08-17 10:38:00   2020-08-17 11:02:00              NaN   \n\n         trip_distance  RatecodeID store_and_fwd_flag  PULocationID  \\\n0                13.20         1.0                  N           237   \n1                 2.83         1.0                  N           146   \n2                 0.00         1.0                  N           264   \n3                 2.34         1.0                  N            79   \n4                 1.32         1.0                  N           141   \n...                ...         ...                ...           ...   \n1007279           9.97         NaN                NaN            87   \n1007280          16.93         NaN                NaN           209   \n1007281           2.75         NaN                NaN           215   \n1007282          10.63         NaN                NaN           212   \n1007283           8.37         NaN                NaN           213   \n\n         DOLocationID  payment_type  fare_amount  extra  mta_tax  tip_amount  \\\n0                  16           2.0        36.50    3.0      0.5        0.00   \n1                 137           1.0        10.50    0.5      0.5        1.50   \n2                 264           2.0         2.50    0.5      0.5        0.00   \n3                 141           1.0         8.00    0.5      0.5        2.36   \n4                 263           1.0         5.50    0.5      0.5        1.86   \n...               ...           ...          ...    ...      ...         ...   \n1007279            42           NaN        37.98    0.0      0.5        2.75   \n1007280            10           NaN        58.00    0.0      0.5        2.75   \n1007281           121           NaN        21.07    0.0      0.5        2.75   \n1007282           107           NaN        31.03    0.0      0.5        2.75   \n1007283           140           NaN        31.27    0.0      0.5        2.75   \n\n         tolls_amount  improvement_surcharge  total_amount  \\\n0                0.00                    0.3         40.30   \n1                0.00                    0.3         15.80   \n2                0.00                    0.3          3.80   \n3                0.00                    0.3         14.16   \n4                0.00                    0.3         11.16   \n...               ...                    ...           ...   \n1007279          0.00                    0.3         41.53   \n1007280          0.00                    0.3         61.55   \n1007281          0.00                    0.3         24.62   \n1007282          6.12                    0.3         40.70   \n1007283          0.00                    0.3         34.82   \n\n         congestion_surcharge  \n0                         2.5  \n1                         2.5  \n2                         0.0  \n3                         2.5  \n4                         2.5  \n...                       ...  \n1007279                   0.0  \n1007280                   0.0  \n1007281                   0.0  \n1007282                   0.0  \n1007283                   0.0  \n\n[1007284 rows x 18 columns]",
      "text/html": "<div>\n<style scoped>\n    .dataframe tbody tr th:only-of-type {\n        vertical-align: middle;\n    }\n\n    .dataframe tbody tr th {\n        vertical-align: top;\n    }\n\n    .dataframe thead th {\n        text-align: right;\n    }\n</style>\n<table border=\"1\" class=\"dataframe\">\n  <thead>\n    <tr style=\"text-align: right;\">\n      <th></th>\n      <th>VendorID</th>\n      <th>tpep_pickup_datetime</th>\n      <th>tpep_dropoff_datetime</th>\n      <th>passenger_count</th>\n      <th>trip_distance</th>\n      <th>RatecodeID</th>\n      <th>store_and_fwd_flag</th>\n      <th>PULocationID</th>\n      <th>DOLocationID</th>\n      <th>payment_type</th>\n      <th>fare_amount</th>\n      <th>extra</th>\n      <th>mta_tax</th>\n      <th>tip_amount</th>\n      <th>tolls_amount</th>\n      <th>improvement_surcharge</th>\n      <th>total_amount</th>\n      <th>congestion_surcharge</th>\n    </tr>\n  </thead>\n  <tbody>\n    <tr>\n      <th>0</th>\n      <td>1.0</td>\n      <td>2020-08-01 00:02:53</td>\n      <td>2020-08-01 00:28:54</td>\n      <td>1.0</td>\n      <td>13.20</td>\n      <td>1.0</td>\n      <td>N</td>\n      <td>237</td>\n      <td>16</td>\n      <td>2.0</td>\n      <td>36.50</td>\n      <td>3.0</td>\n      <td>0.5</td>\n      <td>0.00</td>\n      <td>0.00</td>\n      <td>0.3</td>\n      <td>40.30</td>\n      <td>2.5</td>\n    </tr>\n    <tr>\n      <th>1</th>\n      <td>2.0</td>\n      <td>2020-08-01 00:08:11</td>\n      <td>2020-08-01 00:16:28</td>\n      <td>1.0</td>\n      <td>2.83</td>\n      <td>1.0</td>\n      <td>N</td>\n      <td>146</td>\n      <td>137</td>\n      <td>1.0</td>\n      <td>10.50</td>\n      <td>0.5</td>\n      <td>0.5</td>\n      <td>1.50</td>\n      <td>0.00</td>\n      <td>0.3</td>\n      <td>15.80</td>\n      <td>2.5</td>\n    </tr>\n    <tr>\n      <th>2</th>\n      <td>2.0</td>\n      <td>2020-08-01 00:22:14</td>\n      <td>2020-08-01 00:22:20</td>\n      <td>1.0</td>\n      <td>0.00</td>\n      <td>1.0</td>\n      <td>N</td>\n      <td>264</td>\n      <td>264</td>\n      <td>2.0</td>\n      <td>2.50</td>\n      <td>0.5</td>\n      <td>0.5</td>\n      <td>0.00</td>\n      <td>0.00</td>\n      <td>0.3</td>\n      <td>3.80</td>\n      <td>0.0</td>\n    </tr>\n    <tr>\n      <th>3</th>\n      <td>2.0</td>\n      <td>2020-08-01 00:31:35</td>\n      <td>2020-08-01 00:36:54</td>\n      <td>1.0</td>\n      <td>2.34</td>\n      <td>1.0</td>\n      <td>N</td>\n      <td>79</td>\n      <td>141</td>\n      <td>1.0</td>\n      <td>8.00</td>\n      <td>0.5</td>\n      <td>0.5</td>\n      <td>2.36</td>\n      <td>0.00</td>\n      <td>0.3</td>\n      <td>14.16</td>\n      <td>2.5</td>\n    </tr>\n    <tr>\n      <th>4</th>\n      <td>2.0</td>\n      <td>2020-08-01 00:39:18</td>\n      <td>2020-08-01 00:42:09</td>\n      <td>1.0</td>\n      <td>1.32</td>\n      <td>1.0</td>\n      <td>N</td>\n      <td>141</td>\n      <td>263</td>\n      <td>1.0</td>\n      <td>5.50</td>\n      <td>0.5</td>\n      <td>0.5</td>\n      <td>1.86</td>\n      <td>0.00</td>\n      <td>0.3</td>\n      <td>11.16</td>\n      <td>2.5</td>\n    </tr>\n    <tr>\n      <th>...</th>\n      <td>...</td>\n      <td>...</td>\n      <td>...</td>\n      <td>...</td>\n      <td>...</td>\n      <td>...</td>\n      <td>...</td>\n      <td>...</td>\n      <td>...</td>\n      <td>...</td>\n      <td>...</td>\n      <td>...</td>\n      <td>...</td>\n      <td>...</td>\n      <td>...</td>\n      <td>...</td>\n      <td>...</td>\n      <td>...</td>\n    </tr>\n    <tr>\n      <th>1007279</th>\n      <td>NaN</td>\n      <td>2020-08-17 10:44:01</td>\n      <td>2020-08-17 11:08:05</td>\n      <td>NaN</td>\n      <td>9.97</td>\n      <td>NaN</td>\n      <td>NaN</td>\n      <td>87</td>\n      <td>42</td>\n      <td>NaN</td>\n      <td>37.98</td>\n      <td>0.0</td>\n      <td>0.5</td>\n      <td>2.75</td>\n      <td>0.00</td>\n      <td>0.3</td>\n      <td>41.53</td>\n      <td>0.0</td>\n    </tr>\n    <tr>\n      <th>1007280</th>\n      <td>NaN</td>\n      <td>2020-08-17 10:32:00</td>\n      <td>2020-08-17 11:14:00</td>\n      <td>NaN</td>\n      <td>16.93</td>\n      <td>NaN</td>\n      <td>NaN</td>\n      <td>209</td>\n      <td>10</td>\n      <td>NaN</td>\n      <td>58.00</td>\n      <td>0.0</td>\n      <td>0.5</td>\n      <td>2.75</td>\n      <td>0.00</td>\n      <td>0.3</td>\n      <td>61.55</td>\n      <td>0.0</td>\n    </tr>\n    <tr>\n      <th>1007281</th>\n      <td>NaN</td>\n      <td>2020-08-17 10:30:00</td>\n      <td>2020-08-17 10:47:00</td>\n      <td>NaN</td>\n      <td>2.75</td>\n      <td>NaN</td>\n      <td>NaN</td>\n      <td>215</td>\n      <td>121</td>\n      <td>NaN</td>\n      <td>21.07</td>\n      <td>0.0</td>\n      <td>0.5</td>\n      <td>2.75</td>\n      <td>0.00</td>\n      <td>0.3</td>\n      <td>24.62</td>\n      <td>0.0</td>\n    </tr>\n    <tr>\n      <th>1007282</th>\n      <td>NaN</td>\n      <td>2020-08-17 10:21:32</td>\n      <td>2020-08-17 10:54:42</td>\n      <td>NaN</td>\n      <td>10.63</td>\n      <td>NaN</td>\n      <td>NaN</td>\n      <td>212</td>\n      <td>107</td>\n      <td>NaN</td>\n      <td>31.03</td>\n      <td>0.0</td>\n      <td>0.5</td>\n      <td>2.75</td>\n      <td>6.12</td>\n      <td>0.3</td>\n      <td>40.70</td>\n      <td>0.0</td>\n    </tr>\n    <tr>\n      <th>1007283</th>\n      <td>NaN</td>\n      <td>2020-08-17 10:38:00</td>\n      <td>2020-08-17 11:02:00</td>\n      <td>NaN</td>\n      <td>8.37</td>\n      <td>NaN</td>\n      <td>NaN</td>\n      <td>213</td>\n      <td>140</td>\n      <td>NaN</td>\n      <td>31.27</td>\n      <td>0.0</td>\n      <td>0.5</td>\n      <td>2.75</td>\n      <td>0.00</td>\n      <td>0.3</td>\n      <td>34.82</td>\n      <td>0.0</td>\n    </tr>\n  </tbody>\n</table>\n<p>1007284 rows × 18 columns</p>\n</div>"
     },
     "execution_count": 15,
     "metadata": {},
     "output_type": "execute_result"
    }
   ],
   "source": [
    "df"
   ],
   "metadata": {
    "collapsed": false,
    "pycharm": {
     "name": "#%%\n"
    }
   }
  },
  {
   "cell_type": "code",
   "execution_count": 6,
   "outputs": [
    {
     "name": "stdout",
     "output_type": "stream",
     "text": [
      "<class 'pandas.core.frame.DataFrame'>\n",
      "RangeIndex: 1007284 entries, 0 to 1007283\n",
      "Data columns (total 18 columns):\n",
      " #   Column                 Non-Null Count    Dtype         \n",
      "---  ------                 --------------    -----         \n",
      " 0   VendorID               936045 non-null   float64       \n",
      " 1   tpep_pickup_datetime   1007284 non-null  datetime64[ns]\n",
      " 2   tpep_dropoff_datetime  1007284 non-null  datetime64[ns]\n",
      " 3   passenger_count        936045 non-null   float64       \n",
      " 4   trip_distance          1007284 non-null  float64       \n",
      " 5   RatecodeID             936045 non-null   float64       \n",
      " 6   store_and_fwd_flag     936045 non-null   object        \n",
      " 7   PULocationID           1007284 non-null  int64         \n",
      " 8   DOLocationID           1007284 non-null  int64         \n",
      " 9   payment_type           936045 non-null   float64       \n",
      " 10  fare_amount            1007284 non-null  float64       \n",
      " 11  extra                  1007284 non-null  float64       \n",
      " 12  mta_tax                1007284 non-null  float64       \n",
      " 13  tip_amount             1007284 non-null  float64       \n",
      " 14  tolls_amount           1007284 non-null  float64       \n",
      " 15  improvement_surcharge  1007284 non-null  float64       \n",
      " 16  total_amount           1007284 non-null  float64       \n",
      " 17  congestion_surcharge   1007284 non-null  float64       \n",
      "dtypes: datetime64[ns](2), float64(13), int64(2), object(1)\n",
      "memory usage: 138.3+ MB\n"
     ]
    }
   ],
   "source": [
    "df.info()"
   ],
   "metadata": {
    "collapsed": false,
    "pycharm": {
     "name": "#%%\n"
    }
   }
  },
  {
   "cell_type": "code",
   "execution_count": 4,
   "outputs": [],
   "source": [
    "## Preprocess (load data -> clean data -> save preprocessed data to cloud)\n",
    "!python ../main/preprocess.py"
   ],
   "metadata": {
    "collapsed": false,
    "pycharm": {
     "name": "#%%\n"
    }
   }
  },
  {
   "cell_type": "code",
   "execution_count": 7,
   "outputs": [
    {
     "name": "stdout",
     "output_type": "stream",
     "text": [
      "Current version: 20220506-235733\n"
     ]
    }
   ],
   "source": [
    "## load the preprocessed data\n",
    "clean_df = get_output_data('clean')"
   ],
   "metadata": {
    "collapsed": false,
    "pycharm": {
     "name": "#%%\n"
    }
   }
  },
  {
   "cell_type": "code",
   "execution_count": 11,
   "outputs": [
    {
     "name": "stdout",
     "output_type": "stream",
     "text": [
      "Current version: 20220506-235733\r\n"
     ]
    }
   ],
   "source": [
    "## generate the features\n",
    "!python ../main/feature_engineering.py"
   ],
   "metadata": {
    "collapsed": false,
    "pycharm": {
     "name": "#%%\n"
    }
   }
  },
  {
   "cell_type": "code",
   "execution_count": 12,
   "outputs": [
    {
     "name": "stdout",
     "output_type": "stream",
     "text": [
      "Current version: 20220507-000344\n"
     ]
    }
   ],
   "source": [
    "## load the features\n",
    "df = get_output_data('features')"
   ],
   "metadata": {
    "collapsed": false,
    "pycharm": {
     "name": "#%%\n"
    }
   }
  },
  {
   "cell_type": "code",
   "execution_count": 13,
   "outputs": [
    {
     "data": {
      "text/plain": "        trip_duration  trip_speed  trip_tolls  pickup_weekday  pickup_hour  \\\n0         1438.600000    0.002238        0.00               1            3   \n1         1432.250000    0.012707        6.12               1            5   \n2         1076.416667    0.019128        0.00               1            6   \n3         1393.733333    0.002167        0.00               1            9   \n4         1397.883333    0.001667        0.00               1            9   \n...               ...         ...         ...             ...          ...   \n777856      33.266667    0.156313        0.00               6           23   \n777857       1.650000    0.303030        0.00               6           23   \n777858      19.333333    0.528621        6.12               6           23   \n777859       9.633333    0.285467        0.00               6           23   \n777860      30.100000    0.246844        0.00               6           19   \n\n        pickup_month  pickup_minute  work_hours  meter_eng  meter_dis  \\\n0                  8             12       False        179        179   \n1                  8              8       False         42         77   \n2                  8              3       False        132         26   \n3                  8              0        True        262        170   \n4                  8             35        True         68        142   \n...              ...            ...         ...        ...        ...   \n777856             8              0       False         41         41   \n777857             8             48       False        142        142   \n777858             8             25       False         70         43   \n777859             8             50       False        237        186   \n777860             8             21       False         68         61   \n\n        total_tip  total_fare  tip_percentage  big_tip tpep_pickup_datetime  \\\n0            0.00        14.0        0.000000    False  2020-08-04 03:12:27   \n1            0.00        50.5        0.000000    False  2020-08-04 05:08:10   \n2            0.00        56.5        0.000000    False  2020-08-04 06:03:35   \n3            3.16        12.5       25.280000     True  2020-08-04 09:00:40   \n4            1.23         9.0       13.666667     True  2020-08-04 09:35:52   \n...           ...         ...             ...      ...                  ...   \n777856       0.00        23.5        0.000000    False  2020-08-30 23:00:27   \n777857       0.00         3.5        0.000000    False  2020-08-30 23:48:33   \n777858       9.86        29.5       33.423729     True  2020-08-30 23:25:12   \n777859       1.00        10.5        9.523810     True  2020-08-30 23:50:08   \n777860       6.06        26.5       22.867925     True  2020-08-30 19:21:26   \n\n       tpep_dropoff_datetime  \n0        2020-08-05 03:11:03  \n1        2020-08-05 05:00:25  \n2        2020-08-05 00:00:00  \n3        2020-08-05 08:14:24  \n4        2020-08-05 08:53:45  \n...                      ...  \n777856   2020-08-30 23:33:43  \n777857   2020-08-30 23:50:12  \n777858   2020-08-30 23:44:32  \n777859   2020-08-30 23:59:46  \n777860   2020-08-30 19:51:32  \n\n[777861 rows x 16 columns]",
      "text/html": "<div>\n<style scoped>\n    .dataframe tbody tr th:only-of-type {\n        vertical-align: middle;\n    }\n\n    .dataframe tbody tr th {\n        vertical-align: top;\n    }\n\n    .dataframe thead th {\n        text-align: right;\n    }\n</style>\n<table border=\"1\" class=\"dataframe\">\n  <thead>\n    <tr style=\"text-align: right;\">\n      <th></th>\n      <th>trip_duration</th>\n      <th>trip_speed</th>\n      <th>trip_tolls</th>\n      <th>pickup_weekday</th>\n      <th>pickup_hour</th>\n      <th>pickup_month</th>\n      <th>pickup_minute</th>\n      <th>work_hours</th>\n      <th>meter_eng</th>\n      <th>meter_dis</th>\n      <th>total_tip</th>\n      <th>total_fare</th>\n      <th>tip_percentage</th>\n      <th>big_tip</th>\n      <th>tpep_pickup_datetime</th>\n      <th>tpep_dropoff_datetime</th>\n    </tr>\n  </thead>\n  <tbody>\n    <tr>\n      <th>0</th>\n      <td>1438.600000</td>\n      <td>0.002238</td>\n      <td>0.00</td>\n      <td>1</td>\n      <td>3</td>\n      <td>8</td>\n      <td>12</td>\n      <td>False</td>\n      <td>179</td>\n      <td>179</td>\n      <td>0.00</td>\n      <td>14.0</td>\n      <td>0.000000</td>\n      <td>False</td>\n      <td>2020-08-04 03:12:27</td>\n      <td>2020-08-05 03:11:03</td>\n    </tr>\n    <tr>\n      <th>1</th>\n      <td>1432.250000</td>\n      <td>0.012707</td>\n      <td>6.12</td>\n      <td>1</td>\n      <td>5</td>\n      <td>8</td>\n      <td>8</td>\n      <td>False</td>\n      <td>42</td>\n      <td>77</td>\n      <td>0.00</td>\n      <td>50.5</td>\n      <td>0.000000</td>\n      <td>False</td>\n      <td>2020-08-04 05:08:10</td>\n      <td>2020-08-05 05:00:25</td>\n    </tr>\n    <tr>\n      <th>2</th>\n      <td>1076.416667</td>\n      <td>0.019128</td>\n      <td>0.00</td>\n      <td>1</td>\n      <td>6</td>\n      <td>8</td>\n      <td>3</td>\n      <td>False</td>\n      <td>132</td>\n      <td>26</td>\n      <td>0.00</td>\n      <td>56.5</td>\n      <td>0.000000</td>\n      <td>False</td>\n      <td>2020-08-04 06:03:35</td>\n      <td>2020-08-05 00:00:00</td>\n    </tr>\n    <tr>\n      <th>3</th>\n      <td>1393.733333</td>\n      <td>0.002167</td>\n      <td>0.00</td>\n      <td>1</td>\n      <td>9</td>\n      <td>8</td>\n      <td>0</td>\n      <td>True</td>\n      <td>262</td>\n      <td>170</td>\n      <td>3.16</td>\n      <td>12.5</td>\n      <td>25.280000</td>\n      <td>True</td>\n      <td>2020-08-04 09:00:40</td>\n      <td>2020-08-05 08:14:24</td>\n    </tr>\n    <tr>\n      <th>4</th>\n      <td>1397.883333</td>\n      <td>0.001667</td>\n      <td>0.00</td>\n      <td>1</td>\n      <td>9</td>\n      <td>8</td>\n      <td>35</td>\n      <td>True</td>\n      <td>68</td>\n      <td>142</td>\n      <td>1.23</td>\n      <td>9.0</td>\n      <td>13.666667</td>\n      <td>True</td>\n      <td>2020-08-04 09:35:52</td>\n      <td>2020-08-05 08:53:45</td>\n    </tr>\n    <tr>\n      <th>...</th>\n      <td>...</td>\n      <td>...</td>\n      <td>...</td>\n      <td>...</td>\n      <td>...</td>\n      <td>...</td>\n      <td>...</td>\n      <td>...</td>\n      <td>...</td>\n      <td>...</td>\n      <td>...</td>\n      <td>...</td>\n      <td>...</td>\n      <td>...</td>\n      <td>...</td>\n      <td>...</td>\n    </tr>\n    <tr>\n      <th>777856</th>\n      <td>33.266667</td>\n      <td>0.156313</td>\n      <td>0.00</td>\n      <td>6</td>\n      <td>23</td>\n      <td>8</td>\n      <td>0</td>\n      <td>False</td>\n      <td>41</td>\n      <td>41</td>\n      <td>0.00</td>\n      <td>23.5</td>\n      <td>0.000000</td>\n      <td>False</td>\n      <td>2020-08-30 23:00:27</td>\n      <td>2020-08-30 23:33:43</td>\n    </tr>\n    <tr>\n      <th>777857</th>\n      <td>1.650000</td>\n      <td>0.303030</td>\n      <td>0.00</td>\n      <td>6</td>\n      <td>23</td>\n      <td>8</td>\n      <td>48</td>\n      <td>False</td>\n      <td>142</td>\n      <td>142</td>\n      <td>0.00</td>\n      <td>3.5</td>\n      <td>0.000000</td>\n      <td>False</td>\n      <td>2020-08-30 23:48:33</td>\n      <td>2020-08-30 23:50:12</td>\n    </tr>\n    <tr>\n      <th>777858</th>\n      <td>19.333333</td>\n      <td>0.528621</td>\n      <td>6.12</td>\n      <td>6</td>\n      <td>23</td>\n      <td>8</td>\n      <td>25</td>\n      <td>False</td>\n      <td>70</td>\n      <td>43</td>\n      <td>9.86</td>\n      <td>29.5</td>\n      <td>33.423729</td>\n      <td>True</td>\n      <td>2020-08-30 23:25:12</td>\n      <td>2020-08-30 23:44:32</td>\n    </tr>\n    <tr>\n      <th>777859</th>\n      <td>9.633333</td>\n      <td>0.285467</td>\n      <td>0.00</td>\n      <td>6</td>\n      <td>23</td>\n      <td>8</td>\n      <td>50</td>\n      <td>False</td>\n      <td>237</td>\n      <td>186</td>\n      <td>1.00</td>\n      <td>10.5</td>\n      <td>9.523810</td>\n      <td>True</td>\n      <td>2020-08-30 23:50:08</td>\n      <td>2020-08-30 23:59:46</td>\n    </tr>\n    <tr>\n      <th>777860</th>\n      <td>30.100000</td>\n      <td>0.246844</td>\n      <td>0.00</td>\n      <td>6</td>\n      <td>19</td>\n      <td>8</td>\n      <td>21</td>\n      <td>False</td>\n      <td>68</td>\n      <td>61</td>\n      <td>6.06</td>\n      <td>26.5</td>\n      <td>22.867925</td>\n      <td>True</td>\n      <td>2020-08-30 19:21:26</td>\n      <td>2020-08-30 19:51:32</td>\n    </tr>\n  </tbody>\n</table>\n<p>777861 rows × 16 columns</p>\n</div>"
     },
     "execution_count": 13,
     "metadata": {},
     "output_type": "execute_result"
    }
   ],
   "source": [
    "df"
   ],
   "metadata": {
    "collapsed": false,
    "pycharm": {
     "name": "#%%\n"
    }
   }
  },
  {
   "cell_type": "code",
   "execution_count": null,
   "outputs": [],
   "source": [],
   "metadata": {
    "collapsed": false,
    "pycharm": {
     "name": "#%%\n"
    }
   }
  }
 ],
 "metadata": {
  "kernelspec": {
   "display_name": "Python 3",
   "language": "python",
   "name": "python3"
  },
  "language_info": {
   "codemirror_mode": {
    "name": "ipython",
    "version": 2
   },
   "file_extension": ".py",
   "mimetype": "text/x-python",
   "name": "python",
   "nbconvert_exporter": "python",
   "pygments_lexer": "ipython2",
   "version": "2.7.6"
  }
 },
 "nbformat": 4,
 "nbformat_minor": 0
}