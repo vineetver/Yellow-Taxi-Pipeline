{
 "cells": [
  {
   "cell_type": "code",
   "execution_count": 1,
   "outputs": [],
   "source": [
    "from src.dataset.create_dataset import *\n",
    "from src.model.classifiers import GaussianNBModel\n",
    "import numpy as np\n",
    "import pandas as pd\n",
    "import matplotlib.pyplot as plt\n",
    "import matplotlib.dates as mdates\n",
    "import seaborn as sns\n",
    "import time\n",
    "import os\n",
    "import pyspark\n",
    "from pyspark.sql import SparkSession\n",
    "from pyspark import StorageLevel\n",
    "from pyspark.sql.types import *"
   ],
   "metadata": {
    "collapsed": false,
    "pycharm": {
     "name": "#%%\n"
    }
   }
  },
  {
   "cell_type": "code",
   "execution_count": 2,
   "outputs": [],
   "source": [
    "sns.set_style('white')"
   ],
   "metadata": {
    "collapsed": false,
    "pycharm": {
     "name": "#%%\n"
    }
   }
  },
  {
   "cell_type": "code",
   "execution_count": 3,
   "outputs": [
    {
     "data": {
      "text/plain": "<pyspark.sql.session.SparkSession at 0x20868352410>",
      "text/html": "\n            <div>\n                <p><b>SparkSession - in-memory</b></p>\n                \n        <div>\n            <p><b>SparkContext</b></p>\n\n            <p><a href=\"http://vineet:4040\">Spark UI</a></p>\n\n            <dl>\n              <dt>Version</dt>\n                <dd><code>v3.2.1</code></dd>\n              <dt>Master</dt>\n                <dd><code>local[*]</code></dd>\n              <dt>AppName</dt>\n                <dd><code>Yellow-Taxi-Analysis</code></dd>\n            </dl>\n        </div>\n        \n            </div>\n        "
     },
     "execution_count": 3,
     "metadata": {},
     "output_type": "execute_result"
    }
   ],
   "source": [
    "appName = 'Yellow-Taxi-Analysis'\n",
    "token = os.environ['GOOGLE_APPLICATION_CREDENTIALS']\n",
    "BUCKET_NAME = 'yellow_taxi_vineet'\n",
    "\n",
    "spark = SparkSession \\\n",
    "    .builder \\\n",
    "    .master('local[*]') \\\n",
    "    .appName(appName) \\\n",
    "    .getOrCreate()\n",
    "\n",
    "spark.conf.set('spark.sql.execution.arrow.enabled', 'true')\n",
    "spark.conf.set('spark.sql.execution.arrow.maxRecordsPerBatch', '10000')\n",
    "spark"
   ],
   "metadata": {
    "collapsed": false,
    "pycharm": {
     "name": "#%%\n"
    }
   }
  },
  {
   "cell_type": "code",
   "execution_count": 4,
   "outputs": [
    {
     "name": "stdout",
     "output_type": "stream",
     "text": [
      "root\n",
      " |-- VendorID: integer (nullable = true)\n",
      " |-- tpep_pickup_datetime: string (nullable = true)\n",
      " |-- tpep_dropoff_datetime: string (nullable = true)\n",
      " |-- passenger_count: double (nullable = true)\n",
      " |-- trip_distance: double (nullable = true)\n",
      " |-- RatecodeID: double (nullable = true)\n",
      " |-- store_and_fwd_flag: string (nullable = true)\n",
      " |-- PULocationID: integer (nullable = true)\n",
      " |-- DOLocationID: integer (nullable = true)\n",
      " |-- payment_type: integer (nullable = true)\n",
      " |-- fare_amount: double (nullable = true)\n",
      " |-- extra: double (nullable = true)\n",
      " |-- mta_tax: double (nullable = true)\n",
      " |-- tip_amount: double (nullable = true)\n",
      " |-- tolls_amount: double (nullable = true)\n",
      " |-- improvement_surcharge: double (nullable = true)\n",
      " |-- total_amount: double (nullable = true)\n",
      " |-- congestion_surcharge: double (nullable = true)\n",
      "\n"
     ]
    }
   ],
   "source": [
    "df = spark.read.csv(f'gs://{BUCKET_NAME}/tripdata/yellow_tripdata_2021-*.csv', header=True, inferSchema=True)\n",
    "\n",
    "df.printSchema()\n",
    "df.createOrReplaceTempView('trip_table')"
   ],
   "metadata": {
    "collapsed": false,
    "pycharm": {
     "name": "#%%\n"
    }
   }
  },
  {
   "cell_type": "markdown",
   "source": [
    "### Number of entries in the dataset"
   ],
   "metadata": {
    "collapsed": false,
    "pycharm": {
     "name": "#%% md\n"
    }
   }
  },
  {
   "cell_type": "code",
   "execution_count": 5,
   "outputs": [
    {
     "data": {
      "text/plain": "30904072"
     },
     "execution_count": 5,
     "metadata": {},
     "output_type": "execute_result"
    }
   ],
   "source": [
    "df.count()"
   ],
   "metadata": {
    "collapsed": false,
    "pycharm": {
     "name": "#%%\n"
    }
   }
  },
  {
   "cell_type": "markdown",
   "source": [
    "### Five number summary of fare_amount, trip_distance, total_amount, tip_amount, passenger_count:\n"
   ],
   "metadata": {
    "collapsed": false,
    "pycharm": {
     "name": "#%% md\n"
    }
   }
  },
  {
   "cell_type": "code",
   "execution_count": 6,
   "outputs": [
    {
     "name": "stdout",
     "output_type": "stream",
     "text": [
      "+-------+------------------+-----------------+------------------+------------------+------------------+\n",
      "|summary|       fare_amount|    trip_distance|      total_amount|        tip_amount|   passenger_count|\n",
      "+-------+------------------+-----------------+------------------+------------------+------------------+\n",
      "|  count|          30904072|         30904072|          30904072|          30904072|          29425377|\n",
      "|   mean|13.519365664815796|6.922726195434684|19.696337035317203|2.3411668222883693|1.4274779215233164|\n",
      "| stddev|178.98936097415236|698.3826175595799|179.19494366216398| 2.829036847287313|1.0333720138448683|\n",
      "|    min|            -758.0|              0.0|            -951.0|           -333.32|               0.0|\n",
      "|    max|         818283.44|        351613.36|         818286.74|           1140.44|             112.0|\n",
      "+-------+------------------+-----------------+------------------+------------------+------------------+\n",
      "\n"
     ]
    }
   ],
   "source": [
    "spark.sql(\n",
    "    'SELECT fare_amount, trip_distance, total_amount, tip_amount, passenger_count FROM trip_table').describe().show()"
   ],
   "metadata": {
    "collapsed": false,
    "pycharm": {
     "name": "#%%\n"
    }
   }
  },
  {
   "cell_type": "markdown",
   "source": [
    "As we can see, there are a lot of outliers in the fare_amount, trip_distance and total_amount columns. We can see that the fare_amount/total_amount/trip_distance are the most skewed variable. The min and max values are very low and high for a simple taxi fare."
   ],
   "metadata": {
    "collapsed": false,
    "pycharm": {
     "name": "#%% md\n"
    }
   }
  },
  {
   "cell_type": "markdown",
   "source": [
    "### How does taxi usage change over a month"
   ],
   "metadata": {
    "collapsed": false,
    "pycharm": {
     "name": "#%% md\n"
    }
   }
  },
  {
   "cell_type": "code",
   "execution_count": 7,
   "outputs": [
    {
     "data": {
      "text/plain": "<Figure size 864x432 with 1 Axes>",
      "image/png": "[encoded data removed]"
     },
     "metadata": {
      "needs_background": "light"
     },
     "output_type": "display_data"
    }
   ],
   "source": [
    "viz = spark.sql(\"\"\"\n",
    "SELECT\n",
    "    day(DATE_TRUNC('DD', TO_DATE(tpep_pickup_datetime))) AS day,\n",
    "    ROUND(COUNT(1)/1000, 2) AS trip_count\n",
    "FROM\n",
    "    trip_table\n",
    "GROUP BY\n",
    "    day\n",
    "\"\"\").toPandas()\n",
    "\n",
    "fig = plt.figure(figsize=(12, 6))\n",
    "ax = sns.lineplot(x='day', y='trip_count', data=viz, color='#1f77b4')\n",
    "ax.set_xlabel('Day')\n",
    "ax.set_ylabel('Number of trips (thousands)')\n",
    "plt.show()"
   ],
   "metadata": {
    "collapsed": false,
    "pycharm": {
     "name": "#%%\n"
    }
   }
  },
  {
   "cell_type": "markdown",
   "source": [
    "### Most popular months in year 2021 for taxi trips"
   ],
   "metadata": {
    "collapsed": false,
    "pycharm": {
     "name": "#%% md\n"
    }
   }
  },
  {
   "cell_type": "code",
   "execution_count": 30,
   "outputs": [
    {
     "data": {
      "text/plain": "<Figure size 864x432 with 1 Axes>",
      "image/png": "[encoded data removed]"
     },
     "metadata": {
      "needs_background": "light"
     },
     "output_type": "display_data"
    }
   ],
   "source": [
    "viz = spark.sql(\"\"\"\n",
    "SELECT\n",
    "    month(DATE_TRUNC('MM', TO_DATE(tpep_pickup_datetime))) AS month,\n",
    "    ROUND(COUNT(1)/1000, 2) AS trip_count\n",
    "FROM\n",
    "    trip_table\n",
    "GROUP BY\n",
    "    month\n",
    "\"\"\").toPandas()\n",
    "\n",
    "fig = plt.figure(figsize=(12, 6))\n",
    "ax = sns.lineplot(x='month', y='trip_count', data=viz, color='#1f77b4')\n",
    "ax.set_xlabel('Month')\n",
    "ax.set_ylabel('Number of trips (thousands)')\n",
    "ax.set_xticks([1, 2, 3, 4, 5, 6, 7, 8, 9, 10, 11, 12] ,['Jan', 'Feb', 'Mar', 'Apr', 'May', 'Jun', 'Jul', 'Aug', 'Sep', 'Oct', 'Nov', 'Dec'])\n",
    "plt.show()"
   ],
   "metadata": {
    "collapsed": false,
    "pycharm": {
     "name": "#%%\n"
    }
   }
  },
  {
   "cell_type": "markdown",
   "source": [
    "### How trips are distributed by day of the week"
   ],
   "metadata": {
    "collapsed": false,
    "pycharm": {
     "name": "#%% md\n"
    }
   }
  },
  {
   "cell_type": "code",
   "execution_count": 52,
   "outputs": [
    {
     "data": {
      "text/plain": "<Figure size 864x432 with 1 Axes>",
      "image/png": "[encoded data removed]"
     },
     "metadata": {
      "needs_background": "light"
     },
     "output_type": "display_data"
    }
   ],
   "source": [
    "viz = spark.sql(\"\"\"\n",
    "SELECT\n",
    "    TO_DATE(tpep_pickup_datetime) AS pickup_time,\n",
    "    DATE_FORMAT(tpep_pickup_datetime, 'EEEE') AS day,\n",
    "    ROUND(COUNT(*)/1000, 2) AS trip_count\n",
    "FROM\n",
    "    trip_table\n",
    "GROUP BY\n",
    "    pickup_time,\n",
    "    day\n",
    "\"\"\").toPandas()\n",
    "\n",
    "mean_trips_week_day = viz.groupby('day').agg({'trip_count': 'mean'}).reset_index()\n",
    "mean_trips_week_day = mean_trips_week_day.set_index('day').reindex(['Monday', 'Tuesday', 'Wednesday', 'Thursday', 'Friday', 'Saturday', 'Sunday']).reset_index()\n",
    "\n",
    "fig = plt.figure(figsize=(12, 6))\n",
    "ax = sns.barplot(x='day', y='trip_count', data=mean_trips_week_day, palette='rocket_r')\n",
    "ax.set_xlabel('Day')\n",
    "ax.set_ylabel('Mean number of trips per day of week (Thousands)')\n",
    "plt.show()"
   ],
   "metadata": {
    "collapsed": false,
    "pycharm": {
     "name": "#%%\n"
    }
   }
  },
  {
   "cell_type": "markdown",
   "source": [],
   "metadata": {
    "collapsed": false,
    "pycharm": {
     "name": "#%% md\n"
    }
   }
  },
  {
   "cell_type": "code",
   "execution_count": 62,
   "outputs": [
    {
     "data": {
      "text/plain": "+-------------------+------+----+----------+-------------+-------------+----------+\n|        pickup_time|   day|hour|trip_count|mean_distance|mean_duration|mean_speed|\n+-------------------+------+----+----------+-------------+-------------+----------+\n|2021-03-01 00:03:28|Monday|   0|       0.0|          6.2|        12.02|     30.96|\n|2021-03-01 01:59:52|Monday|   1|       0.0|          0.8|          2.3|     20.87|\n|2021-03-01 04:46:49|Monday|   4|       0.0|          3.3|        11.57|     17.12|\n|2021-03-01 05:41:51|Monday|   5|       0.0|         0.89|         4.63|     12.87|\n|2021-03-01 05:56:45|Monday|   5|       0.0|         0.43|         2.18|     11.82|\n|2021-03-01 06:27:47|Monday|   6|       0.0|          2.6|        10.24|     15.66|\n|2021-03-01 06:49:07|Monday|   6|       0.0|        1.725|         7.91|     13.37|\n|2021-03-01 06:16:22|Monday|   6|       0.0|         1.14|         2.77|     24.72|\n|2021-03-01 06:49:10|Monday|   6|       0.0|         1.17|         6.17|     11.38|\n|2021-03-01 06:20:16|Monday|   6|       0.0|         1.54|         6.68|     13.83|\n|2021-03-01 07:22:08|Monday|   7|       0.0|         0.96|         6.27|      9.19|\n|2021-03-01 07:26:44|Monday|   7|       0.0|          1.3|         7.27|     10.73|\n|2021-03-01 06:58:14|Monday|   6|       0.0|         4.59|        17.32|      15.9|\n|2021-03-01 07:51:17|Monday|   7|       0.0|          1.2|         6.32|      11.4|\n|2021-03-01 07:23:17|Monday|   7|       0.0|          2.0|        14.33|      8.49|\n|2021-03-01 07:19:11|Monday|   7|       0.0|          2.1|        10.92|     11.54|\n|2021-03-01 07:09:05|Monday|   7|       0.0|          0.7|         6.22|      6.76|\n|2021-03-01 07:42:28|Monday|   7|       0.0|          1.4|         5.95|     14.12|\n|2021-03-01 07:52:34|Monday|   7|       0.0|          9.1|         28.4|     19.23|\n|2021-03-01 07:51:42|Monday|   7|       0.0|         1.21|         9.66|      7.72|\n+-------------------+------+----+----------+-------------+-------------+----------+\nonly showing top 20 rows",
      "text/html": "<table border='1'>\n<tr><th>pickup_time</th><th>day</th><th>hour</th><th>trip_count</th><th>mean_distance</th><th>mean_duration</th><th>mean_speed</th></tr>\n<tr><td>2021-03-01 00:03:28</td><td>Monday</td><td>0</td><td>0.0</td><td>6.2</td><td>12.02</td><td>30.96</td></tr>\n<tr><td>2021-03-01 01:59:52</td><td>Monday</td><td>1</td><td>0.0</td><td>0.8</td><td>2.3</td><td>20.87</td></tr>\n<tr><td>2021-03-01 04:46:49</td><td>Monday</td><td>4</td><td>0.0</td><td>3.3</td><td>11.57</td><td>17.12</td></tr>\n<tr><td>2021-03-01 05:41:51</td><td>Monday</td><td>5</td><td>0.0</td><td>0.89</td><td>4.63</td><td>12.87</td></tr>\n<tr><td>2021-03-01 05:56:45</td><td>Monday</td><td>5</td><td>0.0</td><td>0.43</td><td>2.18</td><td>11.82</td></tr>\n<tr><td>2021-03-01 06:27:47</td><td>Monday</td><td>6</td><td>0.0</td><td>2.6</td><td>10.24</td><td>15.66</td></tr>\n<tr><td>2021-03-01 06:49:07</td><td>Monday</td><td>6</td><td>0.0</td><td>1.725</td><td>7.91</td><td>13.37</td></tr>\n<tr><td>2021-03-01 06:16:22</td><td>Monday</td><td>6</td><td>0.0</td><td>1.14</td><td>2.77</td><td>24.72</td></tr>\n<tr><td>2021-03-01 06:49:10</td><td>Monday</td><td>6</td><td>0.0</td><td>1.17</td><td>6.17</td><td>11.38</td></tr>\n<tr><td>2021-03-01 06:20:16</td><td>Monday</td><td>6</td><td>0.0</td><td>1.54</td><td>6.68</td><td>13.83</td></tr>\n<tr><td>2021-03-01 07:22:08</td><td>Monday</td><td>7</td><td>0.0</td><td>0.96</td><td>6.27</td><td>9.19</td></tr>\n<tr><td>2021-03-01 07:26:44</td><td>Monday</td><td>7</td><td>0.0</td><td>1.3</td><td>7.27</td><td>10.73</td></tr>\n<tr><td>2021-03-01 06:58:14</td><td>Monday</td><td>6</td><td>0.0</td><td>4.59</td><td>17.32</td><td>15.9</td></tr>\n<tr><td>2021-03-01 07:51:17</td><td>Monday</td><td>7</td><td>0.0</td><td>1.2</td><td>6.32</td><td>11.4</td></tr>\n<tr><td>2021-03-01 07:23:17</td><td>Monday</td><td>7</td><td>0.0</td><td>2.0</td><td>14.33</td><td>8.49</td></tr>\n<tr><td>2021-03-01 07:19:11</td><td>Monday</td><td>7</td><td>0.0</td><td>2.1</td><td>10.92</td><td>11.54</td></tr>\n<tr><td>2021-03-01 07:09:05</td><td>Monday</td><td>7</td><td>0.0</td><td>0.7</td><td>6.22</td><td>6.76</td></tr>\n<tr><td>2021-03-01 07:42:28</td><td>Monday</td><td>7</td><td>0.0</td><td>1.4</td><td>5.95</td><td>14.12</td></tr>\n<tr><td>2021-03-01 07:52:34</td><td>Monday</td><td>7</td><td>0.0</td><td>9.1</td><td>28.4</td><td>19.23</td></tr>\n<tr><td>2021-03-01 07:51:42</td><td>Monday</td><td>7</td><td>0.0</td><td>1.21</td><td>9.66</td><td>7.72</td></tr>\n</table>\nonly showing top 20 rows\n"
     },
     "execution_count": 62,
     "metadata": {},
     "output_type": "execute_result"
    }
   ],
   "source": [
    "spark.sql(\"\"\"\n",
    "SELECT\n",
    "    tpep_pickup_datetime AS pickup_time,\n",
    "    DATE_FORMAT(tpep_pickup_datetime, 'EEEE') AS day,\n",
    "    HOUR(tpep_pickup_datetime) AS hour,\n",
    "    ROUND(COUNT(*)/1000, 2) AS trip_count,\n",
    "    MEAN(trip_distance) AS mean_distance,\n",
    "    ROUND(MEAN((unix_timestamp(tpep_dropoff_datetime) - unix_timestamp(tpep_pickup_datetime))/60), 2) AS mean_duration,\n",
    "    ROUND(MEAN(trip_distance/((unix_timestamp(tpep_dropoff_datetime) - unix_timestamp(tpep_pickup_datetime))/3600)),2) AS mean_speed\n",
    "FROM\n",
    "    trip_table\n",
    "GROUP BY\n",
    "    pickup_time, day, hour\n",
    "\"\"\")"
   ],
   "metadata": {
    "collapsed": false,
    "pycharm": {
     "name": "#%%\n"
    }
   }
  },
  {
   "cell_type": "code",
   "execution_count": null,
   "outputs": [],
   "source": [
    "## Preprocess (load data -> clean data -> save preprocessed data to cloud)\n",
    "!python../ main / preprocess.py"
   ],
   "metadata": {
    "collapsed": false,
    "pycharm": {
     "name": "#%%\n"
    }
   }
  },
  {
   "cell_type": "code",
   "execution_count": null,
   "outputs": [],
   "source": [
    "## Generate the features (generate features -> save the new dataframe with features to cloud)\n",
    "!python../ main / feature_engineering.py"
   ],
   "metadata": {
    "collapsed": false,
    "pycharm": {
     "name": "#%%\n"
    }
   }
  },
  {
   "cell_type": "code",
   "execution_count": null,
   "outputs": [],
   "source": [
    "## train the model (train the model -> save the model to cloud)\n",
    "!python../ main / train_model.py"
   ],
   "metadata": {
    "collapsed": false,
    "pycharm": {
     "name": "#%%\n"
    }
   }
  },
  {
   "cell_type": "code",
   "execution_count": null,
   "outputs": [],
   "source": [
    "## Train model example load final dataframes from cloud (month 1 is for training, month 2 is for testing)\n",
    "train_df = get_output_data('data/features/2022_01')\n",
    "test_df = get_output_data('data/features/2022_02')"
   ],
   "metadata": {
    "collapsed": false,
    "pycharm": {
     "name": "#%%\n"
    }
   }
  },
  {
   "cell_type": "code",
   "execution_count": null,
   "outputs": [],
   "source": [
    "!python../ main / train_model.py"
   ],
   "metadata": {
    "collapsed": false,
    "pycharm": {
     "name": "#%%\n"
    }
   }
  },
  {
   "cell_type": "code",
   "execution_count": 3,
   "outputs": [
    {
     "data": {
      "text/plain": "   trip_duration  trip_speed  trip_tolls  pickup_weekday  pickup_hour  \\\n0        85183.0    0.000184         0.0               1            0   \n1         5477.0    0.000026         0.0               1           22   \n2        83457.0    0.000012         0.0               1            3   \n3        85516.0    0.000052         0.0               1            3   \n4        67491.0    0.000029         0.0               1            5   \n\n   pickup_minute  work_hours  meter_eng  meter_dis  total_tip  total_fare  \\\n0             44       False        138         38      28.61       141.0   \n1             43       False        132        161      12.85        63.0   \n2             20       False         48        264       0.00         5.5   \n3             13       False         48         41       0.00        15.0   \n4             15       False        170        140       0.00         8.0   \n\n   tip_percentage  big_tip tpep_pickup_datetime tpep_dropoff_datetime  \n0       20.290780    False  2022-01-04 00:44:43   2022-01-05 00:24:26  \n1       20.396825    False  2022-01-04 22:43:04   2022-01-05 00:14:21  \n2        0.000000    False  2022-01-04 03:20:48   2022-01-05 02:31:45  \n3        0.000000    False  2022-01-04 03:13:33   2022-01-05 02:58:49  \n4        0.000000    False  2022-01-04 05:15:09   2022-01-05 00:00:00  ",
      "text/html": "<div>\n<style scoped>\n    .dataframe tbody tr th:only-of-type {\n        vertical-align: middle;\n    }\n\n    .dataframe tbody tr th {\n        vertical-align: top;\n    }\n\n    .dataframe thead th {\n        text-align: right;\n    }\n</style>\n<table border=\"1\" class=\"dataframe\">\n  <thead>\n    <tr style=\"text-align: right;\">\n      <th></th>\n      <th>trip_duration</th>\n      <th>trip_speed</th>\n      <th>trip_tolls</th>\n      <th>pickup_weekday</th>\n      <th>pickup_hour</th>\n      <th>pickup_minute</th>\n      <th>work_hours</th>\n      <th>meter_eng</th>\n      <th>meter_dis</th>\n      <th>total_tip</th>\n      <th>total_fare</th>\n      <th>tip_percentage</th>\n      <th>big_tip</th>\n      <th>tpep_pickup_datetime</th>\n      <th>tpep_dropoff_datetime</th>\n    </tr>\n  </thead>\n  <tbody>\n    <tr>\n      <th>0</th>\n      <td>85183.0</td>\n      <td>0.000184</td>\n      <td>0.0</td>\n      <td>1</td>\n      <td>0</td>\n      <td>44</td>\n      <td>False</td>\n      <td>138</td>\n      <td>38</td>\n      <td>28.61</td>\n      <td>141.0</td>\n      <td>20.290780</td>\n      <td>False</td>\n      <td>2022-01-04 00:44:43</td>\n      <td>2022-01-05 00:24:26</td>\n    </tr>\n    <tr>\n      <th>1</th>\n      <td>5477.0</td>\n      <td>0.000026</td>\n      <td>0.0</td>\n      <td>1</td>\n      <td>22</td>\n      <td>43</td>\n      <td>False</td>\n      <td>132</td>\n      <td>161</td>\n      <td>12.85</td>\n      <td>63.0</td>\n      <td>20.396825</td>\n      <td>False</td>\n      <td>2022-01-04 22:43:04</td>\n      <td>2022-01-05 00:14:21</td>\n    </tr>\n    <tr>\n      <th>2</th>\n      <td>83457.0</td>\n      <td>0.000012</td>\n      <td>0.0</td>\n      <td>1</td>\n      <td>3</td>\n      <td>20</td>\n      <td>False</td>\n      <td>48</td>\n      <td>264</td>\n      <td>0.00</td>\n      <td>5.5</td>\n      <td>0.000000</td>\n      <td>False</td>\n      <td>2022-01-04 03:20:48</td>\n      <td>2022-01-05 02:31:45</td>\n    </tr>\n    <tr>\n      <th>3</th>\n      <td>85516.0</td>\n      <td>0.000052</td>\n      <td>0.0</td>\n      <td>1</td>\n      <td>3</td>\n      <td>13</td>\n      <td>False</td>\n      <td>48</td>\n      <td>41</td>\n      <td>0.00</td>\n      <td>15.0</td>\n      <td>0.000000</td>\n      <td>False</td>\n      <td>2022-01-04 03:13:33</td>\n      <td>2022-01-05 02:58:49</td>\n    </tr>\n    <tr>\n      <th>4</th>\n      <td>67491.0</td>\n      <td>0.000029</td>\n      <td>0.0</td>\n      <td>1</td>\n      <td>5</td>\n      <td>15</td>\n      <td>False</td>\n      <td>170</td>\n      <td>140</td>\n      <td>0.00</td>\n      <td>8.0</td>\n      <td>0.000000</td>\n      <td>False</td>\n      <td>2022-01-04 05:15:09</td>\n      <td>2022-01-05 00:00:00</td>\n    </tr>\n  </tbody>\n</table>\n</div>"
     },
     "execution_count": 3,
     "metadata": {},
     "output_type": "execute_result"
    }
   ],
   "source": [
    "train_df.head(5)"
   ],
   "metadata": {
    "collapsed": false,
    "pycharm": {
     "name": "#%%\n"
    }
   }
  },
  {
   "cell_type": "code",
   "execution_count": 4,
   "outputs": [],
   "source": [
    "## Choose the features and the label\n",
    "label = 'big_tip'\n",
    "features = list(train_df.columns.drop([label, 'tpep_pickup_datetime', 'tpep_dropoff_datetime']))"
   ],
   "metadata": {
    "collapsed": false,
    "pycharm": {
     "name": "#%%\n"
    }
   }
  },
  {
   "cell_type": "code",
   "execution_count": 5,
   "outputs": [],
   "source": [
    "## Initialize the model\n",
    "model = GaussianNBModel(features=features, label=label)"
   ],
   "metadata": {
    "collapsed": false,
    "pycharm": {
     "name": "#%%\n"
    }
   }
  },
  {
   "cell_type": "code",
   "execution_count": 6,
   "outputs": [],
   "source": [
    "## Split the data into train and test\n",
    "x_train, y_train = model.preprocess(train_df)\n",
    "x_test, y_test = model.preprocess(test_df)"
   ],
   "metadata": {
    "collapsed": false,
    "pycharm": {
     "name": "#%%\n"
    }
   }
  },
  {
   "cell_type": "code",
   "execution_count": 7,
   "outputs": [],
   "source": [
    "## Fit the model\n",
    "history = model.fit(x_train, y_train)"
   ],
   "metadata": {
    "collapsed": false,
    "pycharm": {
     "name": "#%%\n"
    }
   }
  },
  {
   "cell_type": "code",
   "execution_count": 8,
   "outputs": [
    {
     "data": {
      "text/plain": "<Figure size 432x288 with 2 Axes>",
      "image/png": "[encoded data removed]"
     },
     "metadata": {
      "needs_background": "light"
     },
     "output_type": "display_data"
    }
   ],
   "source": [
    "## Plot the confusion matrix (normalized\n",
    "model.plot_confusion_matrix(x_test, y_test, normalize='true')"
   ],
   "metadata": {
    "collapsed": false,
    "pycharm": {
     "name": "#%%\n"
    }
   }
  },
  {
   "cell_type": "code",
   "execution_count": null,
   "outputs": [],
   "source": [
    "## 10-Fold Cross-validation on the testing data\n",
    "model.cross_validate(x_test, y_test)"
   ],
   "metadata": {
    "collapsed": false,
    "pycharm": {
     "name": "#%%\n"
    }
   }
  }
 ],
 "metadata": {
  "kernelspec": {
   "display_name": "Python 3",
   "language": "python",
   "name": "python3"
  },
  "language_info": {
   "codemirror_mode": {
    "name": "ipython",
    "version": 2
   },
   "file_extension": ".py",
   "mimetype": "text/x-python",
   "name": "python",
   "nbconvert_exporter": "python",
   "pygments_lexer": "ipython2",
   "version": "2.7.6"
  }
 },
 "nbformat": 4,
 "nbformat_minor": 0
}