{
 "cells": [
  {
   "cell_type": "code",
   "execution_count": 2,
   "outputs": [],
   "source": [
    "from src.data.create_dataset import *"
   ],
   "metadata": {
    "collapsed": false,
    "pycharm": {
     "name": "#%%\n"
    }
   }
  },
  {
   "cell_type": "code",
   "execution_count": 14,
   "outputs": [],
   "source": [
    "df = read_data('2022', '02')"
   ],
   "metadata": {
    "collapsed": false,
    "pycharm": {
     "name": "#%%\n"
    }
   }
  },
  {
   "cell_type": "code",
   "execution_count": 6,
   "outputs": [
    {
     "name": "stdout",
     "output_type": "stream",
     "text": [
      "<class 'pandas.core.frame.DataFrame'>\n",
      "RangeIndex: 1007284 entries, 0 to 1007283\n",
      "Data columns (total 18 columns):\n",
      " #   Column                 Non-Null Count    Dtype         \n",
      "---  ------                 --------------    -----         \n",
      " 0   VendorID               936045 non-null   float64       \n",
      " 1   tpep_pickup_datetime   1007284 non-null  datetime64[ns]\n",
      " 2   tpep_dropoff_datetime  1007284 non-null  datetime64[ns]\n",
      " 3   passenger_count        936045 non-null   float64       \n",
      " 4   trip_distance          1007284 non-null  float64       \n",
      " 5   RatecodeID             936045 non-null   float64       \n",
      " 6   store_and_fwd_flag     936045 non-null   object        \n",
      " 7   PULocationID           1007284 non-null  int64         \n",
      " 8   DOLocationID           1007284 non-null  int64         \n",
      " 9   payment_type           936045 non-null   float64       \n",
      " 10  fare_amount            1007284 non-null  float64       \n",
      " 11  extra                  1007284 non-null  float64       \n",
      " 12  mta_tax                1007284 non-null  float64       \n",
      " 13  tip_amount             1007284 non-null  float64       \n",
      " 14  tolls_amount           1007284 non-null  float64       \n",
      " 15  improvement_surcharge  1007284 non-null  float64       \n",
      " 16  total_amount           1007284 non-null  float64       \n",
      " 17  congestion_surcharge   1007284 non-null  float64       \n",
      "dtypes: datetime64[ns](2), float64(13), int64(2), object(1)\n",
      "memory usage: 138.3+ MB\n"
     ]
    }
   ],
   "source": [
    "df.info()"
   ],
   "metadata": {
    "collapsed": false,
    "pycharm": {
     "name": "#%%\n"
    }
   }
  },
  {
   "cell_type": "code",
   "execution_count": 4,
   "outputs": [],
   "source": [
    "## Preprocess (load data -> clean data -> save preprocessed data to cloud)\n",
    "!python ../main/preprocess.py"
   ],
   "metadata": {
    "collapsed": false,
    "pycharm": {
     "name": "#%%\n"
    }
   }
  },
  {
   "cell_type": "code",
   "execution_count": 11,
   "outputs": [
    {
     "name": "stdout",
     "output_type": "stream",
     "text": [
      "Current version: 20220506-235733\r\n"
     ]
    }
   ],
   "source": [
    "## Generate the features (generate features -> save the new dataframe with features to cloud)\n",
    "!python ../main/feature_engineering.py"
   ],
   "metadata": {
    "collapsed": false,
    "pycharm": {
     "name": "#%%\n"
    }
   }
  },
  {
   "cell_type": "code",
   "execution_count": null,
   "outputs": [],
   "source": [
    "## train the model (train the model -> save the model to cloud)\n",
    "!python ../main/train_model.py"
   ],
   "metadata": {
    "collapsed": false,
    "pycharm": {
     "name": "#%%\n"
    }
   }
  }
 ],
 "metadata": {
  "kernelspec": {
   "display_name": "Python 3",
   "language": "python",
   "name": "python3"
  },
  "language_info": {
   "codemirror_mode": {
    "name": "ipython",
    "version": 2
   },
   "file_extension": ".py",
   "mimetype": "text/x-python",
   "name": "python",
   "nbconvert_exporter": "python",
   "pygments_lexer": "ipython2",
   "version": "2.7.6"
  }
 },
 "nbformat": 4,
 "nbformat_minor": 0
}