{
 "cells": [
  {
   "cell_type": "code",
   "execution_count": 5,
   "outputs": [],
   "source": [
    "from src.data.create_dataset import *\n",
    "from src.features.data_cleaning import *\n",
    "import numpy as np\n",
    "import pandas as pd\n",
    "import matplotlib.pyplot as plt\n",
    "import seaborn as sns\n",
    "import itertools\n",
    "import calendar"
   ],
   "metadata": {
    "collapsed": false,
    "pycharm": {
     "name": "#%%\n"
    }
   }
  },
  {
   "cell_type": "code",
   "execution_count": 13,
   "outputs": [],
   "source": [
    "## Preprocess (load data -> clean data -> save preprocessed data to cloud)\n",
    "!python ../main/preprocess.py"
   ],
   "metadata": {
    "collapsed": false,
    "pycharm": {
     "name": "#%%\n"
    }
   }
  },
  {
   "cell_type": "code",
   "execution_count": 14,
   "outputs": [
    {
     "name": "stdout",
     "output_type": "stream",
     "text": [
      "Current version: 20220506-194145\n"
     ]
    }
   ],
   "source": [
    "## load the preprocessed data\n",
    "df = get_output_data('clean')"
   ],
   "metadata": {
    "collapsed": false,
    "pycharm": {
     "name": "#%%\n"
    }
   }
  },
  {
   "cell_type": "code",
   "execution_count": 16,
   "outputs": [
    {
     "data": {
      "text/plain": "   VendorID tpep_pickup_datetime tpep_dropoff_datetime  passenger_count  \\\n0       2.0  2020-08-04 03:12:27   2020-08-05 03:11:03              4.0   \n1       2.0  2020-08-04 05:08:10   2020-08-05 05:00:25              1.0   \n2       2.0  2020-08-04 06:03:35   2020-08-05 00:00:00              1.0   \n3       2.0  2020-08-04 09:00:40   2020-08-05 08:14:24              1.0   \n4       2.0  2020-08-04 09:35:52   2020-08-05 08:53:45              1.0   \n\n   trip_distance  RatecodeID store_and_fwd_flag  PULocationID  DOLocationID  \\\n0           3.22         1.0                  N           179           179   \n1          18.20         1.0                  N            42            77   \n2          20.59         1.0                  N           132            26   \n3           3.02         1.0                  N           262           170   \n4           2.33         1.0                  N            68           142   \n\n   payment_type  fare_amount  extra  mta_tax  tip_amount  tolls_amount  \\\n0           2.0         14.0    0.5      0.5        0.00          0.00   \n1           2.0         50.5    0.5      0.5        0.00          6.12   \n2           1.0         56.5    0.0      0.5        0.00          0.00   \n3           1.0         12.5    0.0      0.5        3.16          0.00   \n4           1.0          9.0    0.0      0.5        1.23          0.00   \n\n   improvement_surcharge  total_amount  congestion_surcharge  \n0                    0.3         15.30                   0.0  \n1                    0.3         57.92                   0.0  \n2                    0.3         57.30                   0.0  \n3                    0.3         18.96                   2.5  \n4                    0.3         13.53                   2.5  ",
      "text/html": "<div>\n<style scoped>\n    .dataframe tbody tr th:only-of-type {\n        vertical-align: middle;\n    }\n\n    .dataframe tbody tr th {\n        vertical-align: top;\n    }\n\n    .dataframe thead th {\n        text-align: right;\n    }\n</style>\n<table border=\"1\" class=\"dataframe\">\n  <thead>\n    <tr style=\"text-align: right;\">\n      <th></th>\n      <th>VendorID</th>\n      <th>tpep_pickup_datetime</th>\n      <th>tpep_dropoff_datetime</th>\n      <th>passenger_count</th>\n      <th>trip_distance</th>\n      <th>RatecodeID</th>\n      <th>store_and_fwd_flag</th>\n      <th>PULocationID</th>\n      <th>DOLocationID</th>\n      <th>payment_type</th>\n      <th>fare_amount</th>\n      <th>extra</th>\n      <th>mta_tax</th>\n      <th>tip_amount</th>\n      <th>tolls_amount</th>\n      <th>improvement_surcharge</th>\n      <th>total_amount</th>\n      <th>congestion_surcharge</th>\n    </tr>\n  </thead>\n  <tbody>\n    <tr>\n      <th>0</th>\n      <td>2.0</td>\n      <td>2020-08-04 03:12:27</td>\n      <td>2020-08-05 03:11:03</td>\n      <td>4.0</td>\n      <td>3.22</td>\n      <td>1.0</td>\n      <td>N</td>\n      <td>179</td>\n      <td>179</td>\n      <td>2.0</td>\n      <td>14.0</td>\n      <td>0.5</td>\n      <td>0.5</td>\n      <td>0.00</td>\n      <td>0.00</td>\n      <td>0.3</td>\n      <td>15.30</td>\n      <td>0.0</td>\n    </tr>\n    <tr>\n      <th>1</th>\n      <td>2.0</td>\n      <td>2020-08-04 05:08:10</td>\n      <td>2020-08-05 05:00:25</td>\n      <td>1.0</td>\n      <td>18.20</td>\n      <td>1.0</td>\n      <td>N</td>\n      <td>42</td>\n      <td>77</td>\n      <td>2.0</td>\n      <td>50.5</td>\n      <td>0.5</td>\n      <td>0.5</td>\n      <td>0.00</td>\n      <td>6.12</td>\n      <td>0.3</td>\n      <td>57.92</td>\n      <td>0.0</td>\n    </tr>\n    <tr>\n      <th>2</th>\n      <td>2.0</td>\n      <td>2020-08-04 06:03:35</td>\n      <td>2020-08-05 00:00:00</td>\n      <td>1.0</td>\n      <td>20.59</td>\n      <td>1.0</td>\n      <td>N</td>\n      <td>132</td>\n      <td>26</td>\n      <td>1.0</td>\n      <td>56.5</td>\n      <td>0.0</td>\n      <td>0.5</td>\n      <td>0.00</td>\n      <td>0.00</td>\n      <td>0.3</td>\n      <td>57.30</td>\n      <td>0.0</td>\n    </tr>\n    <tr>\n      <th>3</th>\n      <td>2.0</td>\n      <td>2020-08-04 09:00:40</td>\n      <td>2020-08-05 08:14:24</td>\n      <td>1.0</td>\n      <td>3.02</td>\n      <td>1.0</td>\n      <td>N</td>\n      <td>262</td>\n      <td>170</td>\n      <td>1.0</td>\n      <td>12.5</td>\n      <td>0.0</td>\n      <td>0.5</td>\n      <td>3.16</td>\n      <td>0.00</td>\n      <td>0.3</td>\n      <td>18.96</td>\n      <td>2.5</td>\n    </tr>\n    <tr>\n      <th>4</th>\n      <td>2.0</td>\n      <td>2020-08-04 09:35:52</td>\n      <td>2020-08-05 08:53:45</td>\n      <td>1.0</td>\n      <td>2.33</td>\n      <td>1.0</td>\n      <td>N</td>\n      <td>68</td>\n      <td>142</td>\n      <td>1.0</td>\n      <td>9.0</td>\n      <td>0.0</td>\n      <td>0.5</td>\n      <td>1.23</td>\n      <td>0.00</td>\n      <td>0.3</td>\n      <td>13.53</td>\n      <td>2.5</td>\n    </tr>\n  </tbody>\n</table>\n</div>"
     },
     "execution_count": 16,
     "metadata": {},
     "output_type": "execute_result"
    }
   ],
   "source": [
    "## generate the features\n",
    "!python ../main/feature_engineering.py"
   ],
   "metadata": {
    "collapsed": false,
    "pycharm": {
     "name": "#%%\n"
    }
   }
  },
  {
   "cell_type": "code",
   "execution_count": 18,
   "outputs": [],
   "source": [
    "## load the features\n",
    "df = pd.read_csv('gs://yellow_taxi_vineet/data/features/20220506-200751.csv')"
   ],
   "metadata": {
    "collapsed": false,
    "pycharm": {
     "name": "#%%\n"
    }
   }
  },
  {
   "cell_type": "code",
   "execution_count": 19,
   "outputs": [
    {
     "data": {
      "text/plain": "        pick_up_weekday  pick_up_hour  pick_up_month  pick_up_minute  \\\n0                     1             3              8              12   \n1                     1             5              8               8   \n2                     1             6              8               3   \n3                     1             9              8               0   \n4                     1             9              8              35   \n...                 ...           ...            ...             ...   \n777856                6            23              8               0   \n777857                6            23              8              48   \n777858                6            23              8              25   \n777859                6            23              8              50   \n777860                6            19              8              21   \n\n        work_hours  \n0            False  \n1            False  \n2            False  \n3             True  \n4             True  \n...            ...  \n777856       False  \n777857       False  \n777858       False  \n777859       False  \n777860       False  \n\n[777861 rows x 5 columns]",
      "text/html": "<div>\n<style scoped>\n    .dataframe tbody tr th:only-of-type {\n        vertical-align: middle;\n    }\n\n    .dataframe tbody tr th {\n        vertical-align: top;\n    }\n\n    .dataframe thead th {\n        text-align: right;\n    }\n</style>\n<table border=\"1\" class=\"dataframe\">\n  <thead>\n    <tr style=\"text-align: right;\">\n      <th></th>\n      <th>pick_up_weekday</th>\n      <th>pick_up_hour</th>\n      <th>pick_up_month</th>\n      <th>pick_up_minute</th>\n      <th>work_hours</th>\n    </tr>\n  </thead>\n  <tbody>\n    <tr>\n      <th>0</th>\n      <td>1</td>\n      <td>3</td>\n      <td>8</td>\n      <td>12</td>\n      <td>False</td>\n    </tr>\n    <tr>\n      <th>1</th>\n      <td>1</td>\n      <td>5</td>\n      <td>8</td>\n      <td>8</td>\n      <td>False</td>\n    </tr>\n    <tr>\n      <th>2</th>\n      <td>1</td>\n      <td>6</td>\n      <td>8</td>\n      <td>3</td>\n      <td>False</td>\n    </tr>\n    <tr>\n      <th>3</th>\n      <td>1</td>\n      <td>9</td>\n      <td>8</td>\n      <td>0</td>\n      <td>True</td>\n    </tr>\n    <tr>\n      <th>4</th>\n      <td>1</td>\n      <td>9</td>\n      <td>8</td>\n      <td>35</td>\n      <td>True</td>\n    </tr>\n    <tr>\n      <th>...</th>\n      <td>...</td>\n      <td>...</td>\n      <td>...</td>\n      <td>...</td>\n      <td>...</td>\n    </tr>\n    <tr>\n      <th>777856</th>\n      <td>6</td>\n      <td>23</td>\n      <td>8</td>\n      <td>0</td>\n      <td>False</td>\n    </tr>\n    <tr>\n      <th>777857</th>\n      <td>6</td>\n      <td>23</td>\n      <td>8</td>\n      <td>48</td>\n      <td>False</td>\n    </tr>\n    <tr>\n      <th>777858</th>\n      <td>6</td>\n      <td>23</td>\n      <td>8</td>\n      <td>25</td>\n      <td>False</td>\n    </tr>\n    <tr>\n      <th>777859</th>\n      <td>6</td>\n      <td>23</td>\n      <td>8</td>\n      <td>50</td>\n      <td>False</td>\n    </tr>\n    <tr>\n      <th>777860</th>\n      <td>6</td>\n      <td>19</td>\n      <td>8</td>\n      <td>21</td>\n      <td>False</td>\n    </tr>\n  </tbody>\n</table>\n<p>777861 rows × 5 columns</p>\n</div>"
     },
     "execution_count": 19,
     "metadata": {},
     "output_type": "execute_result"
    }
   ],
   "source": [
    "df"
   ],
   "metadata": {
    "collapsed": false,
    "pycharm": {
     "name": "#%%\n"
    }
   }
  },
  {
   "cell_type": "code",
   "execution_count": null,
   "outputs": [],
   "source": [],
   "metadata": {
    "collapsed": false,
    "pycharm": {
     "name": "#%%\n"
    }
   }
  }
 ],
 "metadata": {
  "kernelspec": {
   "display_name": "Python 3",
   "language": "python",
   "name": "python3"
  },
  "language_info": {
   "codemirror_mode": {
    "name": "ipython",
    "version": 2
   },
   "file_extension": ".py",
   "mimetype": "text/x-python",
   "name": "python",
   "nbconvert_exporter": "python",
   "pygments_lexer": "ipython2",
   "version": "2.7.6"
  }
 },
 "nbformat": 4,
 "nbformat_minor": 0
}